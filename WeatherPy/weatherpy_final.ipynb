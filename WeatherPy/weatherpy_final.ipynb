{
 "cells": [
  {
   "cell_type": "markdown",
   "metadata": {},
   "source": [
    "# WeatherPy\n",
    "----\n",
    "\n",
    "#### Note\n",
    "* Instructions have been included for each segment. You do not have to follow them exactly, but they are included to help you think through the steps."
   ]
  },
  {
   "cell_type": "markdown",
   "metadata": {},
   "source": [
    "##Three Observable Trends Based on Data\n",
    "1. Latitude and max temperature are correlated - latitude of 20 yields the highest temperatures in the northern hemisphere, a negative correlation.\n",
    "2. Latitude between 20-30 yields the lowest humidity percentages in the northern hemisphere.\n",
    "3. The Cloudiness vs latitude scatter plot showed no trend "
   ]
  },
  {
   "cell_type": "code",
   "execution_count": 1,
   "metadata": {},
   "outputs": [
    {
     "name": "stdout",
     "output_type": "stream",
     "text": [
      "Requirement already satisfied: citipy in c:\\users\\jsodhi\\anaconda3\\lib\\site-packages (0.0.5)\n",
      "Requirement already satisfied: kdtree>=0.12 in c:\\users\\jsodhi\\anaconda3\\lib\\site-packages (from citipy) (0.16)\n"
     ]
    }
   ],
   "source": [
    "!pip install citipy"
   ]
  },
  {
   "cell_type": "code",
   "execution_count": 2,
   "metadata": {
    "scrolled": true
   },
   "outputs": [],
   "source": [
    "# Dependencies and Setup\n",
    "import matplotlib.pyplot as plt\n",
    "import pandas as pd\n",
    "import numpy as np\n",
    "import requests\n",
    "import time\n",
    "import scipy.stats as stats\n",
    "from scipy.stats import linregress\n",
    "\n",
    "# Import API key\n",
    "from api_keys import weather_api_key\n",
    "\n",
    "# Incorporated citipy to determine city based on latitude and longitude\n",
    "from citipy import citipy\n",
    "\n",
    "# Output File (CSV)\n",
    "output_data_file = \"output_data/cities.csv\"\n",
    "\n",
    "# Range of latitudes and longitudes\n",
    "lat_range = (-90, 90)\n",
    "lng_range = (-180, 180)"
   ]
  },
  {
   "cell_type": "markdown",
   "metadata": {},
   "source": [
    "## Generate Cities List"
   ]
  },
  {
   "cell_type": "code",
   "execution_count": 3,
   "metadata": {},
   "outputs": [
    {
     "data": {
      "text/plain": [
       "608"
      ]
     },
     "execution_count": 3,
     "metadata": {},
     "output_type": "execute_result"
    }
   ],
   "source": [
    "# List for holding lat_lngs and cities\n",
    "lat_lngs = []\n",
    "cities = []\n",
    "\n",
    "# Create a set of random lat and lng combinations\n",
    "lats = np.random.uniform(lat_range[0], lat_range[1], size=1500)\n",
    "lngs = np.random.uniform(lng_range[0], lng_range[1], size=1500)\n",
    "lat_lngs = zip(lats, lngs)\n",
    "\n",
    "# Identify nearest city for each lat, lng combination\n",
    "for lat_lng in lat_lngs:\n",
    "    city = citipy.nearest_city(lat_lng[0], lat_lng[1]).city_name\n",
    "    \n",
    "    # If the city is unique, then add it to a our cities list\n",
    "    if city not in cities:\n",
    "        cities.append(city)\n",
    "\n",
    "# Print the city count to confirm sufficient count\n",
    "len(cities)"
   ]
  },
  {
   "cell_type": "markdown",
   "metadata": {},
   "source": [
    "### Perform API Calls\n",
    "* Perform a weather check on each city using a series of successive API calls.\n",
    "* Include a print log of each city as it'sbeing processed (with the city number and city name).\n"
   ]
  },
  {
   "cell_type": "code",
   "execution_count": 4,
   "metadata": {},
   "outputs": [
    {
     "name": "stdout",
     "output_type": "stream",
     "text": [
      "Beginning Data Retrieval\n",
      "-----------------------------------------\n",
      "Missing field/result....skipping.\n",
      "Processing Record 1 of set 1 | manicore\n",
      "Processing Record 2 of set 1 | mount gambier\n",
      "Processing Record 3 of set 1 | sal rei\n",
      "Missing field/result....skipping.\n",
      "Processing Record 5 of set 1 | ushuaia\n",
      "Processing Record 6 of set 1 | ixtapa\n",
      "Processing Record 7 of set 1 | eyrarbakki\n",
      "Processing Record 8 of set 1 | makaha\n",
      "Processing Record 9 of set 1 | chokurdakh\n",
      "Processing Record 10 of set 1 | clyde river\n",
      "Processing Record 11 of set 1 | mataura\n",
      "Processing Record 12 of set 1 | busselton\n",
      "Processing Record 13 of set 1 | cidreira\n",
      "Processing Record 14 of set 1 | ketchikan\n",
      "Processing Record 15 of set 1 | huarmey\n",
      "Processing Record 16 of set 1 | bluff\n",
      "Processing Record 17 of set 1 | itarema\n",
      "Processing Record 18 of set 1 | port elizabeth\n",
      "Processing Record 19 of set 1 | barrow\n",
      "Processing Record 20 of set 1 | chicama\n",
      "Processing Record 21 of set 1 | albany\n",
      "Processing Record 22 of set 1 | siofok\n",
      "Processing Record 23 of set 1 | san patricio\n",
      "Processing Record 24 of set 1 | dikson\n",
      "Processing Record 25 of set 1 | avarua\n",
      "Missing field/result....skipping.\n",
      "Processing Record 27 of set 1 | sovetskiy\n",
      "Processing Record 28 of set 1 | yabelo\n",
      "Processing Record 29 of set 1 | lagoa\n",
      "Processing Record 30 of set 1 | bonthe\n",
      "Processing Record 31 of set 1 | xacmaz\n",
      "Processing Record 32 of set 1 | staryy nadym\n",
      "Processing Record 33 of set 1 | christchurch\n",
      "Processing Record 34 of set 1 | forest grove\n",
      "Processing Record 35 of set 1 | yellowknife\n",
      "Processing Record 36 of set 1 | butaritari\n",
      "Processing Record 37 of set 1 | ancud\n",
      "Processing Record 38 of set 1 | qaqortoq\n",
      "Processing Record 39 of set 1 | lang son\n",
      "Processing Record 40 of set 1 | port pirie\n",
      "Processing Record 41 of set 1 | bandarbeyla\n",
      "Processing Record 42 of set 1 | pangnirtung\n",
      "Processing Record 43 of set 1 | bethel\n",
      "Processing Record 44 of set 1 | ribeira grande\n",
      "Processing Record 45 of set 1 | brodokalmak\n",
      "Processing Record 46 of set 1 | mananjary\n",
      "Processing Record 47 of set 1 | wanning\n",
      "Processing Record 48 of set 1 | killybegs\n",
      "Processing Record 49 of set 1 | oistins\n",
      "Processing Record 50 of set 1 | goulburn\n",
      "Processing Record 51 of set 1 | cherskiy\n",
      "Processing Record 52 of set 1 | salta\n",
      "Processing Record 53 of set 1 | lazaro cardenas\n",
      "Processing Record 54 of set 1 | kavaratti\n",
      "Processing Record 55 of set 1 | comodoro rivadavia\n",
      "Processing Record 56 of set 1 | klaksvik\n",
      "Processing Record 57 of set 1 | chicomuselo\n",
      "Missing field/result....skipping.\n",
      "Processing Record 59 of set 1 | new norfolk\n",
      "Processing Record 60 of set 1 | padrauna\n",
      "Processing Record 61 of set 1 | nikolskoye\n",
      "Processing Record 62 of set 1 | hermanus\n",
      "Processing Record 63 of set 1 | rikitea\n",
      "Processing Record 64 of set 1 | east london\n",
      "Processing Record 65 of set 1 | puerto ayora\n",
      "Processing Record 66 of set 1 | qaanaaq\n",
      "Processing Record 67 of set 1 | atuona\n",
      "Processing Record 68 of set 1 | saint-philippe\n",
      "Processing Record 69 of set 1 | kodiak\n",
      "Processing Record 70 of set 1 | georgetown\n",
      "Processing Record 71 of set 1 | khatanga\n",
      "Processing Record 72 of set 1 | aykhal\n",
      "Processing Record 73 of set 1 | iqaluit\n",
      "Processing Record 74 of set 1 | faanui\n",
      "Processing Record 75 of set 1 | ilulissat\n",
      "Processing Record 76 of set 1 | ligaya\n",
      "Processing Record 77 of set 1 | port hardy\n",
      "Processing Record 78 of set 1 | hualmay\n",
      "Processing Record 79 of set 1 | norman wells\n",
      "Processing Record 80 of set 1 | oum hadjer\n",
      "Processing Record 81 of set 1 | vila velha\n",
      "Processing Record 82 of set 1 | morros\n",
      "Processing Record 83 of set 1 | marzuq\n",
      "Processing Record 84 of set 1 | dawei\n",
      "Processing Record 85 of set 1 | daud khel\n",
      "Processing Record 86 of set 1 | hobart\n",
      "Missing field/result....skipping.\n",
      "Processing Record 88 of set 1 | aborlan\n",
      "Processing Record 89 of set 1 | alofi\n",
      "Missing field/result....skipping.\n",
      "Processing Record 91 of set 1 | lucea\n",
      "Processing Record 92 of set 1 | kailua\n",
      "Processing Record 93 of set 1 | kapoeta\n",
      "Processing Record 94 of set 1 | tiksi\n",
      "Processing Record 95 of set 1 | husavik\n",
      "Processing Record 96 of set 1 | kapaa\n",
      "Processing Record 97 of set 1 | thompson\n",
      "Processing Record 98 of set 1 | victoria\n",
      "Processing Record 99 of set 1 | honningsvag\n",
      "Missing field/result....skipping.\n",
      "Processing Record 101 of set 1 | bella union\n",
      "Processing Record 102 of set 1 | mar del plata\n",
      "Processing Record 103 of set 1 | archidona\n",
      "Processing Record 104 of set 1 | castro\n",
      "Processing Record 105 of set 1 | san angelo\n",
      "Processing Record 106 of set 1 | stroitel\n",
      "Processing Record 107 of set 1 | takhtamygda\n",
      "Processing Record 108 of set 1 | cape town\n",
      "Processing Record 109 of set 1 | maceio\n",
      "Processing Record 110 of set 1 | saskylakh\n",
      "Missing field/result....skipping.\n",
      "Processing Record 112 of set 1 | ostrovnoy\n",
      "Processing Record 113 of set 1 | guerrero negro\n",
      "Processing Record 114 of set 1 | vila franca do campo\n",
      "Processing Record 115 of set 1 | flin flon\n",
      "Processing Record 116 of set 1 | carnarvon\n",
      "Processing Record 117 of set 1 | nizwa\n",
      "Processing Record 118 of set 1 | kavieng\n",
      "Processing Record 119 of set 1 | kibondo\n",
      "Missing field/result....skipping.\n",
      "Missing field/result....skipping.\n",
      "Processing Record 122 of set 1 | krosno\n",
      "Processing Record 123 of set 1 | holland\n",
      "Processing Record 124 of set 1 | vaini\n",
      "Processing Record 125 of set 1 | punta arenas\n",
      "Processing Record 126 of set 1 | san nicolas\n",
      "Processing Record 127 of set 1 | ambilobe\n",
      "Processing Record 128 of set 1 | hima\n",
      "Processing Record 129 of set 1 | kimbe\n",
      "Processing Record 130 of set 1 | bikaner\n",
      "Processing Record 131 of set 1 | aklavik\n",
      "Processing Record 132 of set 1 | milyutinskaya\n",
      "Missing field/result....skipping.\n",
      "Processing Record 134 of set 1 | port alfred\n",
      "Processing Record 135 of set 1 | manokwari\n",
      "Processing Record 136 of set 1 | hilo\n",
      "Missing field/result....skipping.\n",
      "Processing Record 138 of set 1 | bac lieu\n",
      "Processing Record 139 of set 1 | goderich\n",
      "Processing Record 140 of set 1 | lebu\n",
      "Processing Record 141 of set 1 | bredasdorp\n",
      "Missing field/result....skipping.\n",
      "Processing Record 143 of set 1 | richards bay\n",
      "Processing Record 144 of set 1 | sao joao da barra\n",
      "Processing Record 145 of set 1 | tabas\n",
      "Processing Record 146 of set 1 | viana\n",
      "Missing field/result....skipping.\n",
      "Processing Record 148 of set 1 | souillac\n",
      "Processing Record 149 of set 1 | illapel\n",
      "Processing Record 150 of set 1 | aswan\n",
      "Processing Record 151 of set 1 | maroantsetra\n",
      "Missing field/result....skipping.\n",
      "Processing Record 153 of set 1 | san juan\n",
      "Processing Record 154 of set 1 | ridgecrest\n",
      "Processing Record 155 of set 1 | sao filipe\n",
      "Processing Record 156 of set 1 | mazagao\n",
      "Processing Record 157 of set 1 | bubaque\n",
      "Processing Record 158 of set 1 | boa vista\n",
      "Processing Record 159 of set 1 | jamestown\n",
      "Processing Record 160 of set 1 | carmen\n",
      "Processing Record 161 of set 1 | isangel\n",
      "Processing Record 162 of set 1 | benton harbor\n",
      "Processing Record 163 of set 1 | beipiao\n",
      "Processing Record 164 of set 1 | pimentel\n",
      "Processing Record 165 of set 1 | mabaruma\n",
      "Processing Record 166 of set 1 | yarovoye\n",
      "Processing Record 167 of set 1 | saint augustine\n",
      "Processing Record 168 of set 1 | taos\n",
      "Processing Record 169 of set 1 | sharjah\n",
      "Processing Record 170 of set 1 | sur\n",
      "Missing field/result....skipping.\n",
      "Processing Record 172 of set 1 | shimoda\n",
      "Missing field/result....skipping.\n",
      "Missing field/result....skipping.\n",
      "Processing Record 175 of set 1 | longyearbyen\n",
      "Processing Record 176 of set 1 | salalah\n",
      "Processing Record 177 of set 1 | inuvik\n",
      "Processing Record 178 of set 1 | jurmala\n",
      "Processing Record 179 of set 1 | urumqi\n",
      "Processing Record 180 of set 1 | lompoc\n",
      "Processing Record 181 of set 1 | griffith\n",
      "Processing Record 182 of set 1 | biak\n",
      "Processing Record 183 of set 1 | anadyr\n",
      "Processing Record 184 of set 1 | simpang empat\n",
      "Processing Record 185 of set 1 | bambous virieux\n",
      "Processing Record 186 of set 1 | alta floresta\n",
      "Processing Record 187 of set 1 | paamiut\n",
      "Processing Record 188 of set 1 | airai\n",
      "Processing Record 189 of set 1 | tautira\n",
      "Processing Record 190 of set 1 | hami\n",
      "Processing Record 191 of set 1 | bandikui\n",
      "Processing Record 192 of set 1 | san quintin\n",
      "Missing field/result....skipping.\n",
      "Processing Record 194 of set 1 | paramonga\n",
      "Processing Record 195 of set 1 | verkhniy baskunchak\n",
      "Processing Record 196 of set 1 | rokytne\n",
      "Processing Record 197 of set 1 | aksarka\n"
     ]
    },
    {
     "name": "stdout",
     "output_type": "stream",
     "text": [
      "Processing Record 198 of set 1 | chuy\n",
      "Processing Record 199 of set 1 | deputatskiy\n",
      "Processing Record 200 of set 1 | los llanos de aridane\n",
      "Processing Record 201 of set 1 | sarangani\n",
      "Processing Record 202 of set 1 | tual\n",
      "Processing Record 203 of set 1 | gazanjyk\n",
      "Processing Record 204 of set 1 | upernavik\n",
      "Processing Record 205 of set 1 | baoding\n",
      "Processing Record 206 of set 1 | hasaki\n",
      "Processing Record 207 of set 1 | lesozavodsk\n",
      "Processing Record 208 of set 1 | teguldet\n",
      "Processing Record 209 of set 1 | maun\n",
      "Missing field/result....skipping.\n",
      "Processing Record 211 of set 1 | pangody\n",
      "Processing Record 212 of set 1 | yaan\n",
      "Processing Record 213 of set 1 | limbang\n",
      "Processing Record 214 of set 1 | nanakuli\n",
      "Processing Record 215 of set 1 | axim\n",
      "Processing Record 216 of set 1 | madang\n",
      "Processing Record 217 of set 1 | port-gentil\n",
      "Processing Record 218 of set 1 | gat\n",
      "Processing Record 219 of set 1 | poum\n",
      "Missing field/result....skipping.\n",
      "Processing Record 221 of set 1 | itoman\n",
      "Processing Record 222 of set 1 | ponta do sol\n",
      "Processing Record 223 of set 1 | magole\n",
      "Processing Record 224 of set 1 | arraial do cabo\n",
      "Processing Record 225 of set 1 | rochester\n",
      "Processing Record 226 of set 1 | porto novo\n",
      "Processing Record 227 of set 1 | rawson\n",
      "Processing Record 228 of set 1 | atar\n",
      "Processing Record 229 of set 1 | margate\n",
      "Processing Record 230 of set 1 | cap malheureux\n",
      "Processing Record 231 of set 1 | mecca\n",
      "Processing Record 232 of set 1 | shingu\n",
      "Processing Record 233 of set 1 | mahebourg\n",
      "Processing Record 234 of set 1 | eregli\n",
      "Processing Record 235 of set 1 | dunedin\n",
      "Processing Record 236 of set 1 | mandalgovi\n",
      "Processing Record 237 of set 1 | matara\n",
      "Processing Record 238 of set 1 | saint george\n",
      "Processing Record 239 of set 1 | minas\n",
      "Processing Record 240 of set 1 | hithadhoo\n",
      "Processing Record 241 of set 1 | erzin\n",
      "Processing Record 242 of set 1 | payson\n",
      "Processing Record 243 of set 1 | esperance\n",
      "Processing Record 244 of set 1 | narsaq\n",
      "Processing Record 245 of set 1 | katsuura\n",
      "Processing Record 246 of set 1 | kendari\n",
      "Processing Record 247 of set 1 | birao\n",
      "Processing Record 248 of set 1 | vardo\n",
      "Processing Record 249 of set 1 | naze\n",
      "Missing field/result....skipping.\n",
      "Processing Record 251 of set 1 | leningradskiy\n",
      "Processing Record 252 of set 1 | kisangani\n",
      "Processing Record 253 of set 1 | college\n",
      "Processing Record 254 of set 1 | cam ranh\n",
      "Processing Record 255 of set 1 | mitsamiouli\n",
      "Processing Record 256 of set 1 | kamsack\n",
      "Processing Record 257 of set 1 | panama city\n",
      "Processing Record 258 of set 1 | sungairaya\n",
      "Processing Record 259 of set 1 | bathsheba\n",
      "Processing Record 260 of set 1 | cabo san lucas\n",
      "Processing Record 261 of set 1 | sitka\n",
      "Processing Record 262 of set 1 | saint-joseph\n",
      "Processing Record 263 of set 1 | necochea\n",
      "Missing field/result....skipping.\n",
      "Processing Record 265 of set 1 | nurota\n",
      "Processing Record 266 of set 1 | torbay\n",
      "Processing Record 267 of set 1 | laguna\n",
      "Processing Record 268 of set 1 | hambantota\n",
      "Processing Record 269 of set 1 | yulara\n",
      "Processing Record 270 of set 1 | takapau\n",
      "Processing Record 271 of set 1 | tezu\n",
      "Processing Record 272 of set 1 | bafata\n",
      "Processing Record 273 of set 1 | auki\n",
      "Processing Record 274 of set 1 | caravelas\n",
      "Processing Record 275 of set 1 | meulaboh\n",
      "Processing Record 276 of set 1 | salvador\n",
      "Processing Record 277 of set 1 | kamariotissa\n",
      "Processing Record 278 of set 1 | mopti\n",
      "Processing Record 279 of set 1 | montepulciano\n",
      "Processing Record 280 of set 1 | half moon bay\n",
      "Processing Record 281 of set 1 | tuktoyaktuk\n",
      "Processing Record 282 of set 1 | kaitangata\n",
      "Processing Record 283 of set 1 | ust-kut\n",
      "Processing Record 284 of set 1 | iluppur\n",
      "Processing Record 285 of set 1 | khandbari\n",
      "Missing field/result....skipping.\n",
      "Processing Record 287 of set 1 | tahta\n",
      "Processing Record 288 of set 1 | bud\n",
      "Processing Record 289 of set 1 | verkhnyaya inta\n",
      "Processing Record 290 of set 1 | semnan\n",
      "Processing Record 291 of set 1 | rocha\n",
      "Processing Record 292 of set 1 | peace river\n",
      "Processing Record 293 of set 1 | sorong\n",
      "Processing Record 294 of set 1 | tromso\n",
      "Missing field/result....skipping.\n",
      "Processing Record 296 of set 1 | acapulco\n",
      "Processing Record 297 of set 1 | chynov\n",
      "Processing Record 298 of set 1 | aizkraukle\n",
      "Processing Record 299 of set 1 | baillif\n",
      "Processing Record 300 of set 1 | tagusao\n",
      "Missing field/result....skipping.\n",
      "Processing Record 302 of set 1 | shenjiamen\n",
      "Processing Record 303 of set 1 | yenagoa\n",
      "Processing Record 304 of set 1 | brownwood\n",
      "Processing Record 305 of set 1 | korla\n",
      "Processing Record 306 of set 1 | zhangjiakou\n",
      "Processing Record 307 of set 1 | adrar\n",
      "Processing Record 308 of set 1 | keffi\n",
      "Processing Record 309 of set 1 | tres arroyos\n",
      "Processing Record 310 of set 1 | waipawa\n",
      "Processing Record 311 of set 1 | ewa beach\n",
      "Processing Record 312 of set 1 | gawler\n",
      "Processing Record 313 of set 1 | lasa\n",
      "Missing field/result....skipping.\n",
      "Missing field/result....skipping.\n",
      "Processing Record 316 of set 1 | muros\n",
      "Processing Record 317 of set 1 | isiro\n",
      "Missing field/result....skipping.\n",
      "Processing Record 319 of set 1 | sinnamary\n",
      "Processing Record 320 of set 1 | coquimbo\n",
      "Processing Record 321 of set 1 | alindao\n",
      "Processing Record 322 of set 1 | aramil\n",
      "Processing Record 323 of set 1 | carutapera\n",
      "Processing Record 324 of set 1 | lorengau\n",
      "Processing Record 325 of set 1 | alappuzha\n",
      "Processing Record 326 of set 1 | porbandar\n",
      "Processing Record 327 of set 1 | frankfort\n",
      "Processing Record 328 of set 1 | marystown\n",
      "Processing Record 329 of set 1 | saldanha\n",
      "Processing Record 330 of set 1 | nikel\n",
      "Processing Record 331 of set 1 | vasterhaninge\n",
      "Missing field/result....skipping.\n",
      "Processing Record 333 of set 1 | rehoboth\n",
      "Processing Record 334 of set 1 | mount isa\n",
      "Missing field/result....skipping.\n",
      "Processing Record 336 of set 1 | port lincoln\n",
      "Missing field/result....skipping.\n",
      "Processing Record 338 of set 1 | komsomolskiy\n",
      "Processing Record 339 of set 1 | karasburg\n",
      "Processing Record 340 of set 1 | buin\n",
      "Missing field/result....skipping.\n",
      "Processing Record 342 of set 1 | boksitogorsk\n",
      "Processing Record 343 of set 1 | te anau\n",
      "Processing Record 344 of set 1 | severo-kurilsk\n",
      "Processing Record 345 of set 1 | karabash\n",
      "Missing field/result....skipping.\n",
      "Processing Record 347 of set 1 | tasiilaq\n",
      "Processing Record 348 of set 1 | matay\n",
      "Processing Record 349 of set 1 | faya\n",
      "Processing Record 350 of set 1 | guasdualito\n",
      "Processing Record 351 of set 1 | bengkulu\n",
      "Processing Record 352 of set 1 | havre-saint-pierre\n",
      "Processing Record 353 of set 1 | avera\n",
      "Processing Record 354 of set 1 | enshi\n",
      "Processing Record 355 of set 1 | sola\n",
      "Processing Record 356 of set 1 | dingle\n",
      "Processing Record 357 of set 1 | iquique\n",
      "Processing Record 358 of set 1 | pacific grove\n",
      "Processing Record 359 of set 1 | igarka\n",
      "Processing Record 360 of set 1 | tuatapere\n",
      "Processing Record 361 of set 1 | camacha\n",
      "Processing Record 362 of set 1 | srednekolymsk\n",
      "Processing Record 363 of set 1 | asau\n",
      "Processing Record 364 of set 1 | sumbawanga\n",
      "Processing Record 365 of set 1 | karratha\n",
      "Processing Record 366 of set 1 | altay\n",
      "Processing Record 367 of set 1 | saint-augustin\n",
      "Processing Record 368 of set 1 | notse\n",
      "Processing Record 369 of set 1 | vanimo\n",
      "Missing field/result....skipping.\n",
      "Processing Record 371 of set 1 | oussouye\n",
      "Processing Record 372 of set 1 | ndioum\n",
      "Processing Record 373 of set 1 | okitipupa\n",
      "Processing Record 374 of set 1 | athabasca\n",
      "Processing Record 375 of set 1 | north las vegas\n",
      "Processing Record 376 of set 1 | bosaso\n",
      "Processing Record 377 of set 1 | port keats\n",
      "Processing Record 378 of set 1 | botwood\n",
      "Processing Record 379 of set 1 | almaznyy\n",
      "Processing Record 380 of set 1 | ust-maya\n",
      "Processing Record 381 of set 1 | sabang\n",
      "Processing Record 382 of set 1 | port antonio\n",
      "Processing Record 383 of set 1 | tura\n",
      "Missing field/result....skipping.\n",
      "Processing Record 385 of set 1 | ararangua\n",
      "Processing Record 386 of set 1 | that phanom\n",
      "Processing Record 387 of set 1 | kahului\n",
      "Processing Record 388 of set 1 | zeya\n",
      "Processing Record 389 of set 1 | kirakira\n",
      "Processing Record 390 of set 1 | grindavik\n",
      "Processing Record 391 of set 1 | orapa\n",
      "Processing Record 392 of set 1 | kaniama\n",
      "Missing field/result....skipping.\n",
      "Processing Record 394 of set 1 | tilichiki\n",
      "Processing Record 395 of set 1 | jiangyou\n",
      "Processing Record 396 of set 1 | okhotsk\n",
      "Processing Record 397 of set 1 | anjiang\n",
      "Processing Record 398 of set 1 | raudeberg\n",
      "Processing Record 399 of set 1 | nishihara\n",
      "Processing Record 400 of set 1 | talnakh\n",
      "Processing Record 401 of set 1 | yeppoon\n",
      "Processing Record 402 of set 1 | phan thiet\n",
      "Processing Record 403 of set 1 | leshukonskoye\n",
      "Processing Record 404 of set 1 | khani\n",
      "Processing Record 405 of set 1 | alice springs\n",
      "Processing Record 406 of set 1 | villa carlos paz\n",
      "Processing Record 407 of set 1 | severnyy\n",
      "Processing Record 408 of set 1 | xuddur\n",
      "Processing Record 409 of set 1 | butterworth\n",
      "Processing Record 410 of set 1 | kholmogory\n",
      "Processing Record 411 of set 1 | rio grande\n",
      "Processing Record 412 of set 1 | mahbubabad\n",
      "Processing Record 413 of set 1 | chahal\n",
      "Processing Record 414 of set 1 | san juan del sur\n",
      "Processing Record 415 of set 1 | san cristobal\n",
      "Processing Record 416 of set 1 | fare\n",
      "Processing Record 417 of set 1 | rafraf\n",
      "Processing Record 418 of set 1 | jimenez\n",
      "Processing Record 419 of set 1 | wattegama\n",
      "Processing Record 420 of set 1 | irbil\n",
      "Processing Record 421 of set 1 | bonavista\n",
      "Processing Record 422 of set 1 | kyzyl-suu\n",
      "Processing Record 423 of set 1 | vitim\n",
      "Missing field/result....skipping.\n",
      "Processing Record 425 of set 1 | barcelona\n",
      "Processing Record 426 of set 1 | polis\n",
      "Processing Record 427 of set 1 | zalaegerszeg\n",
      "Missing field/result....skipping.\n",
      "Processing Record 429 of set 1 | el alto\n",
      "Processing Record 430 of set 1 | arcachon\n",
      "Processing Record 431 of set 1 | dunn\n",
      "Processing Record 432 of set 1 | topolobampo\n",
      "Processing Record 433 of set 1 | fairbanks\n",
      "Processing Record 434 of set 1 | abu dhabi\n",
      "Processing Record 435 of set 1 | mildura\n",
      "Processing Record 436 of set 1 | nome\n",
      "Processing Record 437 of set 1 | minot\n",
      "Processing Record 438 of set 1 | maragogi\n",
      "Processing Record 439 of set 1 | north bend\n",
      "Processing Record 440 of set 1 | newcastle\n",
      "Processing Record 441 of set 1 | belmonte\n",
      "Missing field/result....skipping.\n",
      "Processing Record 443 of set 1 | road town\n",
      "Processing Record 444 of set 1 | skjervoy\n",
      "Processing Record 445 of set 1 | pimenta bueno\n",
      "Processing Record 446 of set 1 | anshun\n",
      "Processing Record 447 of set 1 | nieuw amsterdam\n",
      "Processing Record 448 of set 1 | katobu\n",
      "Processing Record 449 of set 1 | prince rupert\n",
      "Processing Record 450 of set 1 | provideniya\n",
      "Processing Record 451 of set 1 | ayorou\n",
      "Processing Record 452 of set 1 | palana\n",
      "Processing Record 453 of set 1 | alihe\n",
      "Processing Record 454 of set 1 | quatre cocos\n",
      "Processing Record 455 of set 1 | caarapo\n",
      "Processing Record 456 of set 1 | cartagena\n",
      "Processing Record 457 of set 1 | kamaishi\n",
      "Processing Record 458 of set 1 | fuling\n",
      "Processing Record 459 of set 1 | pevek\n",
      "Processing Record 460 of set 1 | bilibino\n",
      "Processing Record 461 of set 1 | fort-shevchenko\n",
      "Missing field/result....skipping.\n",
      "Processing Record 463 of set 1 | nadym\n",
      "Processing Record 464 of set 1 | oranjestad\n",
      "Processing Record 465 of set 1 | agirish\n",
      "Processing Record 466 of set 1 | kenai\n",
      "Processing Record 467 of set 1 | kutum\n",
      "Processing Record 468 of set 1 | vagay\n",
      "Processing Record 469 of set 1 | puri\n",
      "Processing Record 470 of set 1 | belaya gora\n",
      "Processing Record 471 of set 1 | whitehorse\n",
      "Processing Record 472 of set 1 | bennington\n",
      "Processing Record 473 of set 1 | touros\n",
      "Processing Record 474 of set 1 | flinders\n",
      "Processing Record 475 of set 1 | praia da vitoria\n",
      "Processing Record 476 of set 1 | terralba\n",
      "Processing Record 477 of set 1 | japoata\n",
      "Processing Record 478 of set 1 | evensk\n",
      "Processing Record 479 of set 1 | fort wellington\n",
      "Processing Record 480 of set 1 | paita\n",
      "Missing field/result....skipping.\n",
      "Processing Record 482 of set 1 | panji\n",
      "Processing Record 483 of set 1 | kumluca\n",
      "Processing Record 484 of set 1 | sandviken\n",
      "Processing Record 485 of set 1 | geraldton\n",
      "Processing Record 486 of set 1 | santa isabel\n",
      "Processing Record 487 of set 1 | houma\n",
      "Processing Record 488 of set 1 | ishigaki\n",
      "Processing Record 489 of set 1 | shelburne\n",
      "Processing Record 490 of set 1 | caiaponia\n",
      "Processing Record 491 of set 1 | vaitape\n",
      "Processing Record 492 of set 1 | tammisaari\n",
      "Processing Record 493 of set 1 | omaruru\n",
      "Processing Record 494 of set 1 | betlitsa\n",
      "Processing Record 495 of set 1 | marsa matruh\n",
      "Processing Record 496 of set 1 | santa maria\n",
      "Processing Record 497 of set 1 | erenhot\n",
      "Processing Record 498 of set 1 | hervey bay\n",
      "Processing Record 499 of set 1 | lavrentiya\n",
      "Processing Record 500 of set 1 | sept-iles\n",
      "Missing field/result....skipping.\n",
      "Processing Record 502 of set 1 | bogoslovka\n",
      "Processing Record 503 of set 1 | aksha\n",
      "Processing Record 504 of set 1 | hlotse\n",
      "Missing field/result....skipping.\n",
      "Processing Record 506 of set 1 | dongsheng\n",
      "Processing Record 507 of set 1 | svetlogorsk\n",
      "Missing field/result....skipping.\n",
      "Processing Record 509 of set 1 | khipro\n",
      "Processing Record 510 of set 1 | moron\n",
      "Processing Record 511 of set 1 | jaciara\n",
      "Processing Record 512 of set 1 | constitucion\n",
      "Missing field/result....skipping.\n",
      "Processing Record 514 of set 1 | beberibe\n",
      "Processing Record 515 of set 1 | innisfail\n",
      "Processing Record 516 of set 1 | tabou\n",
      "Processing Record 517 of set 1 | harper\n",
      "Processing Record 518 of set 1 | kalach-na-donu\n",
      "Processing Record 519 of set 1 | waddan\n",
      "Processing Record 520 of set 1 | kotido\n",
      "Processing Record 521 of set 1 | bontang\n",
      "Processing Record 522 of set 1 | dhidhdhoo\n",
      "Processing Record 523 of set 1 | riyadh\n",
      "Missing field/result....skipping.\n",
      "Processing Record 525 of set 1 | hofn\n",
      "Processing Record 526 of set 1 | dapaong\n",
      "Processing Record 527 of set 1 | luderitz\n",
      "Processing Record 528 of set 1 | tambovka\n",
      "Processing Record 529 of set 1 | kongolo\n",
      "Processing Record 530 of set 1 | kempele\n",
      "Processing Record 531 of set 1 | carndonagh\n",
      "Processing Record 532 of set 1 | balabac\n",
      "Processing Record 533 of set 1 | sujiatun\n",
      "Processing Record 534 of set 1 | ati\n",
      "Processing Record 535 of set 1 | skibbereen\n",
      "Processing Record 536 of set 1 | abnub\n",
      "Missing field/result....skipping.\n",
      "Processing Record 538 of set 1 | banikoara\n",
      "Missing field/result....skipping.\n",
      "Processing Record 540 of set 1 | valparaiso\n",
      "Processing Record 541 of set 1 | raga\n",
      "Missing field/result....skipping.\n",
      "Processing Record 543 of set 1 | araouane\n",
      "Processing Record 544 of set 1 | yuancheng\n",
      "Processing Record 545 of set 1 | codrington\n",
      "Processing Record 546 of set 1 | kralendijk\n",
      "Processing Record 547 of set 1 | tiznit\n",
      "Processing Record 548 of set 1 | puerto del rosario\n",
      "Processing Record 549 of set 1 | sao jose da coroa grande\n",
      "Processing Record 550 of set 1 | fallon\n",
      "Processing Record 551 of set 1 | leninskoye\n",
      "Processing Record 552 of set 1 | clinton\n",
      "Processing Record 553 of set 1 | hirara\n",
      "Processing Record 554 of set 1 | port augusta\n",
      "Processing Record 555 of set 1 | sistranda\n",
      "Processing Record 556 of set 1 | pascagoula\n",
      "Processing Record 557 of set 1 | taga\n",
      "Processing Record 558 of set 1 | ust-tsilma\n",
      "Processing Record 559 of set 1 | vestmannaeyjar\n",
      "Processing Record 560 of set 1 | plettenberg bay\n",
      "Processing Record 561 of set 1 | verkhoturye\n",
      "Processing Record 562 of set 1 | sencur\n",
      "Processing Record 563 of set 1 | tahoua\n",
      "Processing Record 564 of set 1 | lesnoy\n",
      "Processing Record 565 of set 1 | tefe\n",
      "Processing Record 566 of set 1 | port maria\n",
      "Processing Record 567 of set 1 | baghmara\n",
      "Processing Record 568 of set 1 | luganville\n",
      "Processing Record 569 of set 1 | kudinovo\n",
      "Processing Record 570 of set 1 | zhezkazgan\n",
      "Processing Record 571 of set 1 | razole\n",
      "Missing field/result....skipping.\n",
      "Processing Record 573 of set 1 | sambava\n",
      "Processing Record 574 of set 1 | naryan-mar\n",
      "Processing Record 575 of set 1 | dwarka\n",
      "Processing Record 576 of set 1 | saravan\n",
      "Processing Record 577 of set 1 | trinidad\n",
      "Processing Record 578 of set 1 | stonewall\n",
      "Processing Record 579 of set 1 | winfield\n",
      "Processing Record 580 of set 1 | zell am see\n",
      "Processing Record 581 of set 1 | odienne\n",
      "Processing Record 582 of set 1 | meridian\n",
      "Processing Record 583 of set 1 | gubkinskiy\n",
      "Processing Record 584 of set 1 | ayan\n",
      "Processing Record 585 of set 1 | irbeyskoye\n",
      "Processing Record 586 of set 1 | ullapool\n",
      "Processing Record 587 of set 1 | mayumba\n",
      "Processing Record 588 of set 1 | taltal\n",
      "Processing Record 589 of set 1 | bintulu\n",
      "Processing Record 590 of set 1 | nanortalik\n",
      "Processing Record 591 of set 1 | krasnoselkup\n"
     ]
    },
    {
     "name": "stdout",
     "output_type": "stream",
     "text": [
      "Processing Record 592 of set 1 | vila\n",
      "Processing Record 593 of set 1 | wonthaggi\n",
      "Processing Record 594 of set 1 | kaeo\n",
      "Processing Record 595 of set 1 | ardakan\n",
      "Processing Record 596 of set 1 | aksay\n",
      "Processing Record 597 of set 1 | chokwe\n",
      "Processing Record 598 of set 1 | uspenka\n",
      "Processing Record 599 of set 1 | uyo\n",
      "Processing Record 600 of set 1 | namibe\n",
      "Processing Record 601 of set 1 | matagami\n",
      "Processing Record 602 of set 1 | port blair\n",
      "Processing Record 603 of set 1 | san luis\n",
      "Processing Record 604 of set 1 | diego de almagro\n",
      "Processing Record 605 of set 1 | tessalit\n",
      "Processing Record 606 of set 1 | portobelo\n",
      "Processing Record 607 of set 1 | jardim\n",
      "-----------------------------------\n",
      "Data Retrieval Complete\n",
      "------------------------\n"
     ]
    }
   ],
   "source": [
    "url = \"http://api.openweathermap.org/data/2.5/weather?\"\n",
    "units= \"imperial\"\n",
    "\n",
    "query_url = f\"{url}appid={weather_api_key}&units={units}&q=\"\n",
    "\n",
    "city_group=[]\n",
    "lat=[]\n",
    "lng=[]\n",
    "max_temp =[]\n",
    "cloud=[]\n",
    "hum=[]\n",
    "wind=[]\n",
    "country=[]\n",
    "date=[]\n",
    "\n",
    "\n",
    "#Loop through the list of cities \n",
    "\n",
    "print(\"Beginning Data Retrieval\\n-----------------------------------------\")\n",
    "\n",
    "for city in cities:\n",
    "    try:\n",
    "        response = requests.get(query_url + city).json()\n",
    "        lat.append(response['coord']['lat'])\n",
    "        lng.append(response['coord']['lon'])\n",
    "        hum.append(response['main']['humidity'])\n",
    "        cloud.append(response['clouds']['all'])\n",
    "        wind.append(response['wind']['speed'])\n",
    "        country.append(response['sys']['country'])\n",
    "        date.append(response['dt'])\n",
    "        max_temp.append(response['main']['temp_max'])\n",
    "        city_group.append(response['name'])\n",
    "        print(f\"Processing Record {cities.index(city)} of set 1 | {city}\")\n",
    "        \n",
    "    except(KeyError, IndexError):\n",
    "        print(\"Missing field/result....skipping.\")\n",
    "    \n",
    "print(\"-----------------------------------\\nData Retrieval Complete\\n------------------------\")\n",
    "        \n"
   ]
  },
  {
   "cell_type": "markdown",
   "metadata": {},
   "source": [
    "### Convert Raw Data to DataFrame\n",
    "* Export the city data into a .csv.\n",
    "* Display the DataFrame"
   ]
  },
  {
   "cell_type": "code",
   "execution_count": 5,
   "metadata": {},
   "outputs": [],
   "source": [
    "weather_dict = {\n",
    "    \"City\": city_group,\n",
    "    \"Lat\": lat,\n",
    "    \"Lng\":lng,\n",
    "    \"Max temp\":max_temp,\n",
    "    \"Humidity\":hum,\n",
    "    \"Cloudiness\":cloud,\n",
    "    \"Wind speed\": wind, \n",
    "    \"Country\":country,\n",
    "    \"Date\":date}\n"
   ]
  },
  {
   "cell_type": "code",
   "execution_count": 6,
   "metadata": {},
   "outputs": [
    {
     "data": {
      "text/html": [
       "<div>\n",
       "<style scoped>\n",
       "    .dataframe tbody tr th:only-of-type {\n",
       "        vertical-align: middle;\n",
       "    }\n",
       "\n",
       "    .dataframe tbody tr th {\n",
       "        vertical-align: top;\n",
       "    }\n",
       "\n",
       "    .dataframe thead th {\n",
       "        text-align: right;\n",
       "    }\n",
       "</style>\n",
       "<table border=\"1\" class=\"dataframe\">\n",
       "  <thead>\n",
       "    <tr style=\"text-align: right;\">\n",
       "      <th></th>\n",
       "      <th>City</th>\n",
       "      <th>Lat</th>\n",
       "      <th>Lng</th>\n",
       "      <th>Max temp</th>\n",
       "      <th>Humidity</th>\n",
       "      <th>Cloudiness</th>\n",
       "      <th>Wind speed</th>\n",
       "      <th>Country</th>\n",
       "      <th>Date</th>\n",
       "    </tr>\n",
       "  </thead>\n",
       "  <tbody>\n",
       "    <tr>\n",
       "      <th>0</th>\n",
       "      <td>Manicoré</td>\n",
       "      <td>-5.81</td>\n",
       "      <td>-61.30</td>\n",
       "      <td>87.8</td>\n",
       "      <td>62</td>\n",
       "      <td>20</td>\n",
       "      <td>2.24</td>\n",
       "      <td>BR</td>\n",
       "      <td>1595536103</td>\n",
       "    </tr>\n",
       "    <tr>\n",
       "      <th>1</th>\n",
       "      <td>Mount Gambier</td>\n",
       "      <td>-37.83</td>\n",
       "      <td>140.77</td>\n",
       "      <td>37.4</td>\n",
       "      <td>86</td>\n",
       "      <td>99</td>\n",
       "      <td>6.93</td>\n",
       "      <td>AU</td>\n",
       "      <td>1595536103</td>\n",
       "    </tr>\n",
       "    <tr>\n",
       "      <th>2</th>\n",
       "      <td>Sal Rei</td>\n",
       "      <td>16.18</td>\n",
       "      <td>-22.92</td>\n",
       "      <td>78.8</td>\n",
       "      <td>78</td>\n",
       "      <td>90</td>\n",
       "      <td>16.11</td>\n",
       "      <td>CV</td>\n",
       "      <td>1595536049</td>\n",
       "    </tr>\n",
       "    <tr>\n",
       "      <th>3</th>\n",
       "      <td>Ushuaia</td>\n",
       "      <td>-54.80</td>\n",
       "      <td>-68.30</td>\n",
       "      <td>41.0</td>\n",
       "      <td>65</td>\n",
       "      <td>75</td>\n",
       "      <td>4.70</td>\n",
       "      <td>AR</td>\n",
       "      <td>1595536104</td>\n",
       "    </tr>\n",
       "    <tr>\n",
       "      <th>4</th>\n",
       "      <td>Ixtapa</td>\n",
       "      <td>20.70</td>\n",
       "      <td>-105.20</td>\n",
       "      <td>90.0</td>\n",
       "      <td>74</td>\n",
       "      <td>75</td>\n",
       "      <td>11.41</td>\n",
       "      <td>MX</td>\n",
       "      <td>1595536104</td>\n",
       "    </tr>\n",
       "  </tbody>\n",
       "</table>\n",
       "</div>"
      ],
      "text/plain": [
       "            City    Lat     Lng  Max temp  Humidity  Cloudiness  Wind speed  \\\n",
       "0       Manicoré  -5.81  -61.30      87.8        62          20        2.24   \n",
       "1  Mount Gambier -37.83  140.77      37.4        86          99        6.93   \n",
       "2        Sal Rei  16.18  -22.92      78.8        78          90       16.11   \n",
       "3        Ushuaia -54.80  -68.30      41.0        65          75        4.70   \n",
       "4         Ixtapa  20.70 -105.20      90.0        74          75       11.41   \n",
       "\n",
       "  Country        Date  \n",
       "0      BR  1595536103  \n",
       "1      AU  1595536103  \n",
       "2      CV  1595536049  \n",
       "3      AR  1595536104  \n",
       "4      MX  1595536104  "
      ]
     },
     "execution_count": 6,
     "metadata": {},
     "output_type": "execute_result"
    }
   ],
   "source": [
    "weather_data = pd.DataFrame(weather_dict)\n",
    "weather_data.head()"
   ]
  },
  {
   "cell_type": "markdown",
   "metadata": {},
   "source": [
    "## Inspect the data and remove the cities where the humidity > 100%.\n",
    "----\n",
    "Skip this step if there are no cities that have humidity > 100%. "
   ]
  },
  {
   "cell_type": "code",
   "execution_count": 13,
   "metadata": {},
   "outputs": [
    {
     "data": {
      "text/html": [
       "<div>\n",
       "<style scoped>\n",
       "    .dataframe tbody tr th:only-of-type {\n",
       "        vertical-align: middle;\n",
       "    }\n",
       "\n",
       "    .dataframe tbody tr th {\n",
       "        vertical-align: top;\n",
       "    }\n",
       "\n",
       "    .dataframe thead th {\n",
       "        text-align: right;\n",
       "    }\n",
       "</style>\n",
       "<table border=\"1\" class=\"dataframe\">\n",
       "  <thead>\n",
       "    <tr style=\"text-align: right;\">\n",
       "      <th></th>\n",
       "      <th>City</th>\n",
       "      <th>Lat</th>\n",
       "      <th>Lng</th>\n",
       "      <th>Max temp</th>\n",
       "      <th>Humidity</th>\n",
       "      <th>Cloudiness</th>\n",
       "      <th>Wind speed</th>\n",
       "      <th>Country</th>\n",
       "      <th>Date</th>\n",
       "    </tr>\n",
       "  </thead>\n",
       "  <tbody>\n",
       "  </tbody>\n",
       "</table>\n",
       "</div>"
      ],
      "text/plain": [
       "Empty DataFrame\n",
       "Columns: [City, Lat, Lng, Max temp, Humidity, Cloudiness, Wind speed, Country, Date]\n",
       "Index: []"
      ]
     },
     "execution_count": 13,
     "metadata": {},
     "output_type": "execute_result"
    }
   ],
   "source": [
    "clean_data = weather_data[weather_data[\"Humidity\"] > 100]\n",
    "clean_data "
   ]
  },
  {
   "cell_type": "code",
   "execution_count": 15,
   "metadata": {},
   "outputs": [
    {
     "data": {
      "text/plain": [
       "[]"
      ]
     },
     "execution_count": 15,
     "metadata": {},
     "output_type": "execute_result"
    }
   ],
   "source": [
    "#  Get the indices of cities that have humidity over 100%.\n",
    "indices = weather_data.index[weather_data['Humidity'] > 100].tolist()\n",
    "indices\n"
   ]
  },
  {
   "cell_type": "code",
   "execution_count": 16,
   "metadata": {},
   "outputs": [],
   "source": [
    "# Make a new DataFrame equal to the city data to drop all humidity outliers by index.\n",
    "# Passing \"inplace=False\" will make a copy of the city_data DataFrame, which we call \"clean_city_data\".\n"
   ]
  },
  {
   "cell_type": "code",
   "execution_count": 17,
   "metadata": {},
   "outputs": [],
   "source": [
    "# Extract relevant fields from the data frame\n",
    "\n",
    "\n",
    "# Export the City_Data into a csv\n",
    "weather_data.to_csv(r'out.csv', index=False)\n"
   ]
  },
  {
   "cell_type": "markdown",
   "metadata": {},
   "source": [
    "## Plotting the Data\n",
    "* Use proper labeling of the plots using plot titles (including date of analysis) and axes labels.\n",
    "* Save the plotted figures as .pngs."
   ]
  },
  {
   "cell_type": "markdown",
   "metadata": {},
   "source": [
    "## Latitude vs. Temperature Plot"
   ]
  },
  {
   "cell_type": "code",
   "execution_count": 41,
   "metadata": {
    "scrolled": true
   },
   "outputs": [
    {
     "data": {
      "image/png": "[encoded data removed]",
      "text/plain": [
       "<Figure size 432x288 with 1 Axes>"
      ]
     },
     "metadata": {
      "needs_background": "light"
     },
     "output_type": "display_data"
    },
    {
     "data": {
      "text/plain": [
       "<Figure size 432x288 with 0 Axes>"
      ]
     },
     "metadata": {},
     "output_type": "display_data"
    }
   ],
   "source": [
    "x_values = weather_data['Lat']\n",
    "y_values = weather_data['Max temp']\n",
    "plt.scatter(x_values,y_values)\n",
    "plt.title('City Latitude vs. Max Temperature (04/01/20)')\n",
    "plt.xlabel('Latitude')\n",
    "plt.ylabel('Max Temperature (F)')\n",
    "plt.grid()\n",
    "plt.show()\n",
    "plt.tight_layout()\n",
    "plt.savefig(\"City Lat vs Max temp.png\")"
   ]
  },
  {
   "cell_type": "markdown",
   "metadata": {},
   "source": [
    "A majority of the cities have a max temp between 70-90 degrees."
   ]
  },
  {
   "cell_type": "markdown",
   "metadata": {},
   "source": [
    "## Latitude vs. Humidity Plot"
   ]
  },
  {
   "cell_type": "code",
   "execution_count": 42,
   "metadata": {},
   "outputs": [
    {
     "data": {
      "image/png": "[encoded data removed]",
      "text/plain": [
       "<Figure size 432x288 with 1 Axes>"
      ]
     },
     "metadata": {
      "needs_background": "light"
     },
     "output_type": "display_data"
    },
    {
     "data": {
      "text/plain": [
       "<Figure size 432x288 with 0 Axes>"
      ]
     },
     "metadata": {},
     "output_type": "display_data"
    }
   ],
   "source": [
    "x_values = weather_data['Lat']\n",
    "y_values = weather_data['Humidity']\n",
    "plt.scatter(x_values,y_values)\n",
    "plt.title('City Latitude vs. Humidity (04/01/20)')\n",
    "plt.xlabel('Latitude')\n",
    "plt.ylabel('Humidity (%)')\n",
    "plt.grid()\n",
    "plt.show()\n",
    "plt.tight_layout()\n",
    "plt.savefig(\"Lat vs Hum.png\")"
   ]
  },
  {
   "cell_type": "markdown",
   "metadata": {},
   "source": [
    "These cities have a wide range in humidity levels but most of them seem to have higher humidity levels."
   ]
  },
  {
   "cell_type": "markdown",
   "metadata": {},
   "source": [
    "## Latitude vs. Cloudiness Plot"
   ]
  },
  {
   "cell_type": "code",
   "execution_count": 43,
   "metadata": {},
   "outputs": [
    {
     "data": {
      "image/png": "[encoded data removed]",
      "text/plain": [
       "<Figure size 432x288 with 1 Axes>"
      ]
     },
     "metadata": {
      "needs_background": "light"
     },
     "output_type": "display_data"
    },
    {
     "data": {
      "text/plain": [
       "<Figure size 432x288 with 0 Axes>"
      ]
     },
     "metadata": {},
     "output_type": "display_data"
    }
   ],
   "source": [
    "x_values = weather_data['Lat']\n",
    "y_values = weather_data['Cloudiness']\n",
    "plt.scatter(x_values,y_values)\n",
    "plt.title('City Latitude vs. Cloudiness (04/01/20)')\n",
    "plt.xlabel('Latitude')\n",
    "plt.ylabel('Cloudiness (%)')\n",
    "plt.grid()\n",
    "plt.show()\n",
    "plt.tight_layout()\n",
    "plt.savefig(\"Lat vs Cloudiness.png\")"
   ]
  },
  {
   "cell_type": "markdown",
   "metadata": {},
   "source": [
    "Latitude and cloudiness do not seem to have a trend and there are some cities that see 0% of clouds."
   ]
  },
  {
   "cell_type": "markdown",
   "metadata": {},
   "source": [
    "## Latitude vs. Wind Speed Plot"
   ]
  },
  {
   "cell_type": "code",
   "execution_count": 44,
   "metadata": {},
   "outputs": [
    {
     "data": {
      "image/png": "[encoded data removed]",
      "text/plain": [
       "<Figure size 432x288 with 1 Axes>"
      ]
     },
     "metadata": {
      "needs_background": "light"
     },
     "output_type": "display_data"
    },
    {
     "data": {
      "text/plain": [
       "<Figure size 432x288 with 0 Axes>"
      ]
     },
     "metadata": {},
     "output_type": "display_data"
    }
   ],
   "source": [
    "x_values = weather_data['Lat']\n",
    "y_values = weather_data['Wind speed']\n",
    "plt.scatter(x_values,y_values)\n",
    "plt.title('City Latitude vs. Wind Speed (04/01/20)')\n",
    "plt.xlabel('Latitude')\n",
    "plt.ylabel('Wind Speed (mph)')\n",
    "plt.grid()\n",
    "plt.show()\n",
    "plt.tight_layout()\n",
    "plt.savefig(\"Lat vs Wind Speed.png\")"
   ]
  },
  {
   "cell_type": "markdown",
   "metadata": {},
   "source": [
    "A majority of the cities have a lower wind speed of about 5-10 mph"
   ]
  },
  {
   "cell_type": "markdown",
   "metadata": {},
   "source": [
    "## Linear Regression"
   ]
  },
  {
   "cell_type": "code",
   "execution_count": 18,
   "metadata": {},
   "outputs": [],
   "source": [
    "# OPTIONAL: Create a function to create Linear Regression plots\n"
   ]
  },
  {
   "cell_type": "code",
   "execution_count": 19,
   "metadata": {},
   "outputs": [],
   "source": [
    "# Create Northern and Southern Hemisphere DataFrames\n",
    "southern_hemisphere = weather_data[weather_data[\"Lat\"] < 0]\n",
    "northern_hemisphere = weather_data[weather_data[\"Lat\"] > 0]"
   ]
  },
  {
   "cell_type": "code",
   "execution_count": 20,
   "metadata": {},
   "outputs": [
    {
     "data": {
      "text/html": [
       "<div>\n",
       "<style scoped>\n",
       "    .dataframe tbody tr th:only-of-type {\n",
       "        vertical-align: middle;\n",
       "    }\n",
       "\n",
       "    .dataframe tbody tr th {\n",
       "        vertical-align: top;\n",
       "    }\n",
       "\n",
       "    .dataframe thead th {\n",
       "        text-align: right;\n",
       "    }\n",
       "</style>\n",
       "<table border=\"1\" class=\"dataframe\">\n",
       "  <thead>\n",
       "    <tr style=\"text-align: right;\">\n",
       "      <th></th>\n",
       "      <th>City</th>\n",
       "      <th>Lat</th>\n",
       "      <th>Lng</th>\n",
       "      <th>Max temp</th>\n",
       "      <th>Humidity</th>\n",
       "      <th>Cloudiness</th>\n",
       "      <th>Wind speed</th>\n",
       "      <th>Country</th>\n",
       "      <th>Date</th>\n",
       "    </tr>\n",
       "  </thead>\n",
       "  <tbody>\n",
       "    <tr>\n",
       "      <th>0</th>\n",
       "      <td>Manicoré</td>\n",
       "      <td>-5.81</td>\n",
       "      <td>-61.30</td>\n",
       "      <td>87.80</td>\n",
       "      <td>62</td>\n",
       "      <td>20</td>\n",
       "      <td>2.24</td>\n",
       "      <td>BR</td>\n",
       "      <td>1595536103</td>\n",
       "    </tr>\n",
       "    <tr>\n",
       "      <th>1</th>\n",
       "      <td>Mount Gambier</td>\n",
       "      <td>-37.83</td>\n",
       "      <td>140.77</td>\n",
       "      <td>37.40</td>\n",
       "      <td>86</td>\n",
       "      <td>99</td>\n",
       "      <td>6.93</td>\n",
       "      <td>AU</td>\n",
       "      <td>1595536103</td>\n",
       "    </tr>\n",
       "    <tr>\n",
       "      <th>3</th>\n",
       "      <td>Ushuaia</td>\n",
       "      <td>-54.80</td>\n",
       "      <td>-68.30</td>\n",
       "      <td>41.00</td>\n",
       "      <td>65</td>\n",
       "      <td>75</td>\n",
       "      <td>4.70</td>\n",
       "      <td>AR</td>\n",
       "      <td>1595536104</td>\n",
       "    </tr>\n",
       "    <tr>\n",
       "      <th>9</th>\n",
       "      <td>Mataura</td>\n",
       "      <td>-46.19</td>\n",
       "      <td>168.86</td>\n",
       "      <td>39.00</td>\n",
       "      <td>83</td>\n",
       "      <td>68</td>\n",
       "      <td>3.00</td>\n",
       "      <td>NZ</td>\n",
       "      <td>1595536105</td>\n",
       "    </tr>\n",
       "    <tr>\n",
       "      <th>10</th>\n",
       "      <td>Busselton</td>\n",
       "      <td>-33.65</td>\n",
       "      <td>115.33</td>\n",
       "      <td>44.01</td>\n",
       "      <td>76</td>\n",
       "      <td>0</td>\n",
       "      <td>4.29</td>\n",
       "      <td>AU</td>\n",
       "      <td>1595536105</td>\n",
       "    </tr>\n",
       "    <tr>\n",
       "      <th>...</th>\n",
       "      <td>...</td>\n",
       "      <td>...</td>\n",
       "      <td>...</td>\n",
       "      <td>...</td>\n",
       "      <td>...</td>\n",
       "      <td>...</td>\n",
       "      <td>...</td>\n",
       "      <td>...</td>\n",
       "      <td>...</td>\n",
       "    </tr>\n",
       "    <tr>\n",
       "      <th>546</th>\n",
       "      <td>Chokwé</td>\n",
       "      <td>-24.53</td>\n",
       "      <td>32.98</td>\n",
       "      <td>65.17</td>\n",
       "      <td>58</td>\n",
       "      <td>91</td>\n",
       "      <td>5.10</td>\n",
       "      <td>MZ</td>\n",
       "      <td>1595535999</td>\n",
       "    </tr>\n",
       "    <tr>\n",
       "      <th>549</th>\n",
       "      <td>Mossamedes</td>\n",
       "      <td>-15.20</td>\n",
       "      <td>12.15</td>\n",
       "      <td>67.68</td>\n",
       "      <td>76</td>\n",
       "      <td>1</td>\n",
       "      <td>5.08</td>\n",
       "      <td>AO</td>\n",
       "      <td>1595536244</td>\n",
       "    </tr>\n",
       "    <tr>\n",
       "      <th>552</th>\n",
       "      <td>San Luis</td>\n",
       "      <td>-33.30</td>\n",
       "      <td>-66.34</td>\n",
       "      <td>38.21</td>\n",
       "      <td>76</td>\n",
       "      <td>98</td>\n",
       "      <td>11.81</td>\n",
       "      <td>AR</td>\n",
       "      <td>1595536246</td>\n",
       "    </tr>\n",
       "    <tr>\n",
       "      <th>553</th>\n",
       "      <td>Diego de Almagro</td>\n",
       "      <td>-26.37</td>\n",
       "      <td>-70.05</td>\n",
       "      <td>55.71</td>\n",
       "      <td>37</td>\n",
       "      <td>0</td>\n",
       "      <td>9.71</td>\n",
       "      <td>CL</td>\n",
       "      <td>1595536246</td>\n",
       "    </tr>\n",
       "    <tr>\n",
       "      <th>556</th>\n",
       "      <td>Jardim</td>\n",
       "      <td>-21.48</td>\n",
       "      <td>-56.14</td>\n",
       "      <td>81.16</td>\n",
       "      <td>34</td>\n",
       "      <td>0</td>\n",
       "      <td>3.87</td>\n",
       "      <td>BR</td>\n",
       "      <td>1595536247</td>\n",
       "    </tr>\n",
       "  </tbody>\n",
       "</table>\n",
       "<p>168 rows × 9 columns</p>\n",
       "</div>"
      ],
      "text/plain": [
       "                 City    Lat     Lng  Max temp  Humidity  Cloudiness  \\\n",
       "0            Manicoré  -5.81  -61.30     87.80        62          20   \n",
       "1       Mount Gambier -37.83  140.77     37.40        86          99   \n",
       "3             Ushuaia -54.80  -68.30     41.00        65          75   \n",
       "9             Mataura -46.19  168.86     39.00        83          68   \n",
       "10          Busselton -33.65  115.33     44.01        76           0   \n",
       "..                ...    ...     ...       ...       ...         ...   \n",
       "546            Chokwé -24.53   32.98     65.17        58          91   \n",
       "549        Mossamedes -15.20   12.15     67.68        76           1   \n",
       "552          San Luis -33.30  -66.34     38.21        76          98   \n",
       "553  Diego de Almagro -26.37  -70.05     55.71        37           0   \n",
       "556            Jardim -21.48  -56.14     81.16        34           0   \n",
       "\n",
       "     Wind speed Country        Date  \n",
       "0          2.24      BR  1595536103  \n",
       "1          6.93      AU  1595536103  \n",
       "3          4.70      AR  1595536104  \n",
       "9          3.00      NZ  1595536105  \n",
       "10         4.29      AU  1595536105  \n",
       "..          ...     ...         ...  \n",
       "546        5.10      MZ  1595535999  \n",
       "549        5.08      AO  1595536244  \n",
       "552       11.81      AR  1595536246  \n",
       "553        9.71      CL  1595536246  \n",
       "556        3.87      BR  1595536247  \n",
       "\n",
       "[168 rows x 9 columns]"
      ]
     },
     "execution_count": 20,
     "metadata": {},
     "output_type": "execute_result"
    }
   ],
   "source": [
    "#southern hemisphere df\n",
    "southern_hemisphere"
   ]
  },
  {
   "cell_type": "code",
   "execution_count": 21,
   "metadata": {},
   "outputs": [
    {
     "data": {
      "text/html": [
       "<div>\n",
       "<style scoped>\n",
       "    .dataframe tbody tr th:only-of-type {\n",
       "        vertical-align: middle;\n",
       "    }\n",
       "\n",
       "    .dataframe tbody tr th {\n",
       "        vertical-align: top;\n",
       "    }\n",
       "\n",
       "    .dataframe thead th {\n",
       "        text-align: right;\n",
       "    }\n",
       "</style>\n",
       "<table border=\"1\" class=\"dataframe\">\n",
       "  <thead>\n",
       "    <tr style=\"text-align: right;\">\n",
       "      <th></th>\n",
       "      <th>City</th>\n",
       "      <th>Lat</th>\n",
       "      <th>Lng</th>\n",
       "      <th>Max temp</th>\n",
       "      <th>Humidity</th>\n",
       "      <th>Cloudiness</th>\n",
       "      <th>Wind speed</th>\n",
       "      <th>Country</th>\n",
       "      <th>Date</th>\n",
       "    </tr>\n",
       "  </thead>\n",
       "  <tbody>\n",
       "    <tr>\n",
       "      <th>2</th>\n",
       "      <td>Sal Rei</td>\n",
       "      <td>16.18</td>\n",
       "      <td>-22.92</td>\n",
       "      <td>78.80</td>\n",
       "      <td>78</td>\n",
       "      <td>90</td>\n",
       "      <td>16.11</td>\n",
       "      <td>CV</td>\n",
       "      <td>1595536049</td>\n",
       "    </tr>\n",
       "    <tr>\n",
       "      <th>4</th>\n",
       "      <td>Ixtapa</td>\n",
       "      <td>20.70</td>\n",
       "      <td>-105.20</td>\n",
       "      <td>90.00</td>\n",
       "      <td>74</td>\n",
       "      <td>75</td>\n",
       "      <td>11.41</td>\n",
       "      <td>MX</td>\n",
       "      <td>1595536104</td>\n",
       "    </tr>\n",
       "    <tr>\n",
       "      <th>5</th>\n",
       "      <td>Eyrarbakki</td>\n",
       "      <td>63.86</td>\n",
       "      <td>-21.15</td>\n",
       "      <td>57.00</td>\n",
       "      <td>58</td>\n",
       "      <td>20</td>\n",
       "      <td>13.87</td>\n",
       "      <td>IS</td>\n",
       "      <td>1595536104</td>\n",
       "    </tr>\n",
       "    <tr>\n",
       "      <th>6</th>\n",
       "      <td>Makaha</td>\n",
       "      <td>21.47</td>\n",
       "      <td>-158.22</td>\n",
       "      <td>84.20</td>\n",
       "      <td>61</td>\n",
       "      <td>40</td>\n",
       "      <td>5.82</td>\n",
       "      <td>US</td>\n",
       "      <td>1595536104</td>\n",
       "    </tr>\n",
       "    <tr>\n",
       "      <th>7</th>\n",
       "      <td>Chokurdakh</td>\n",
       "      <td>70.63</td>\n",
       "      <td>147.92</td>\n",
       "      <td>68.07</td>\n",
       "      <td>59</td>\n",
       "      <td>54</td>\n",
       "      <td>5.48</td>\n",
       "      <td>RU</td>\n",
       "      <td>1595536104</td>\n",
       "    </tr>\n",
       "    <tr>\n",
       "      <th>...</th>\n",
       "      <td>...</td>\n",
       "      <td>...</td>\n",
       "      <td>...</td>\n",
       "      <td>...</td>\n",
       "      <td>...</td>\n",
       "      <td>...</td>\n",
       "      <td>...</td>\n",
       "      <td>...</td>\n",
       "      <td>...</td>\n",
       "    </tr>\n",
       "    <tr>\n",
       "      <th>548</th>\n",
       "      <td>Uyo</td>\n",
       "      <td>5.03</td>\n",
       "      <td>7.93</td>\n",
       "      <td>72.86</td>\n",
       "      <td>96</td>\n",
       "      <td>100</td>\n",
       "      <td>3.11</td>\n",
       "      <td>NG</td>\n",
       "      <td>1595536243</td>\n",
       "    </tr>\n",
       "    <tr>\n",
       "      <th>550</th>\n",
       "      <td>Matagami</td>\n",
       "      <td>49.75</td>\n",
       "      <td>-77.63</td>\n",
       "      <td>78.80</td>\n",
       "      <td>31</td>\n",
       "      <td>1</td>\n",
       "      <td>3.15</td>\n",
       "      <td>CA</td>\n",
       "      <td>1595536245</td>\n",
       "    </tr>\n",
       "    <tr>\n",
       "      <th>551</th>\n",
       "      <td>Port Blair</td>\n",
       "      <td>11.67</td>\n",
       "      <td>92.75</td>\n",
       "      <td>81.61</td>\n",
       "      <td>73</td>\n",
       "      <td>72</td>\n",
       "      <td>3.33</td>\n",
       "      <td>IN</td>\n",
       "      <td>1595536245</td>\n",
       "    </tr>\n",
       "    <tr>\n",
       "      <th>554</th>\n",
       "      <td>Tessalit</td>\n",
       "      <td>20.20</td>\n",
       "      <td>1.01</td>\n",
       "      <td>93.85</td>\n",
       "      <td>24</td>\n",
       "      <td>38</td>\n",
       "      <td>3.06</td>\n",
       "      <td>ML</td>\n",
       "      <td>1595536247</td>\n",
       "    </tr>\n",
       "    <tr>\n",
       "      <th>555</th>\n",
       "      <td>Portobelo</td>\n",
       "      <td>9.55</td>\n",
       "      <td>-79.65</td>\n",
       "      <td>77.00</td>\n",
       "      <td>94</td>\n",
       "      <td>40</td>\n",
       "      <td>5.82</td>\n",
       "      <td>PA</td>\n",
       "      <td>1595536247</td>\n",
       "    </tr>\n",
       "  </tbody>\n",
       "</table>\n",
       "<p>389 rows × 9 columns</p>\n",
       "</div>"
      ],
      "text/plain": [
       "           City    Lat     Lng  Max temp  Humidity  Cloudiness  Wind speed  \\\n",
       "2       Sal Rei  16.18  -22.92     78.80        78          90       16.11   \n",
       "4        Ixtapa  20.70 -105.20     90.00        74          75       11.41   \n",
       "5    Eyrarbakki  63.86  -21.15     57.00        58          20       13.87   \n",
       "6        Makaha  21.47 -158.22     84.20        61          40        5.82   \n",
       "7    Chokurdakh  70.63  147.92     68.07        59          54        5.48   \n",
       "..          ...    ...     ...       ...       ...         ...         ...   \n",
       "548         Uyo   5.03    7.93     72.86        96         100        3.11   \n",
       "550    Matagami  49.75  -77.63     78.80        31           1        3.15   \n",
       "551  Port Blair  11.67   92.75     81.61        73          72        3.33   \n",
       "554    Tessalit  20.20    1.01     93.85        24          38        3.06   \n",
       "555   Portobelo   9.55  -79.65     77.00        94          40        5.82   \n",
       "\n",
       "    Country        Date  \n",
       "2        CV  1595536049  \n",
       "4        MX  1595536104  \n",
       "5        IS  1595536104  \n",
       "6        US  1595536104  \n",
       "7        RU  1595536104  \n",
       "..      ...         ...  \n",
       "548      NG  1595536243  \n",
       "550      CA  1595536245  \n",
       "551      IN  1595536245  \n",
       "554      ML  1595536247  \n",
       "555      PA  1595536247  \n",
       "\n",
       "[389 rows x 9 columns]"
      ]
     },
     "execution_count": 21,
     "metadata": {},
     "output_type": "execute_result"
    }
   ],
   "source": [
    "#northern hemisphere df\n",
    "northern_hemisphere"
   ]
  },
  {
   "cell_type": "markdown",
   "metadata": {},
   "source": [
    "####  Northern Hemisphere - Max Temp vs. Latitude Linear Regression"
   ]
  },
  {
   "cell_type": "code",
   "execution_count": 22,
   "metadata": {},
   "outputs": [
    {
     "name": "stdout",
     "output_type": "stream",
     "text": [
      "The r-squared is: 0.5105212774575429\n"
     ]
    },
    {
     "data": {
      "image/png": "[encoded data removed]",
      "text/plain": [
       "<Figure size 432x288 with 1 Axes>"
      ]
     },
     "metadata": {
      "needs_background": "light"
     },
     "output_type": "display_data"
    },
    {
     "data": {
      "text/plain": [
       "<Figure size 432x288 with 0 Axes>"
      ]
     },
     "metadata": {},
     "output_type": "display_data"
    }
   ],
   "source": [
    "# Create Plot\n",
    "x_values_1 = northern_hemisphere[\"Lat\"]\n",
    "y_values_1 = northern_hemisphere[\"Max temp\"]\n",
    "(slope, intercept, rvalue, pvalue, stderr) = stats.linregress(x_values_1, y_values_1)\n",
    "regress_values = x_values_1 * slope +intercept\n",
    "line_equation = \"y=\" + str(round(slope,2)) + \"x + \" + str(round(intercept,2))\n",
    " \n",
    "plt.scatter(x_values_1, y_values_1)\n",
    "plt.plot(x_values_1, regress_values, \"r-\")\n",
    "plt.annotate(line_equation, (20,50), fontsize=12,color=\"red\")\n",
    "print(f\"The r-squared is: {rvalue**2}\")\n",
    "      \n",
    "plt.title(\"Northern Hemisphere Max Temp Vs Latitude Linear Regression\")\n",
    "plt.xlabel(\"Latitude\")\n",
    "plt.ylabel(\"Max Temp\")\n",
    "plt.show()\n",
    "plt.savefig(\"Northern Max temp vs lat linear reg.png\")"
   ]
  },
  {
   "cell_type": "markdown",
   "metadata": {},
   "source": [
    "####  Southern Hemisphere - Max Temp vs. Latitude Linear Regression"
   ]
  },
  {
   "cell_type": "code",
   "execution_count": 23,
   "metadata": {},
   "outputs": [
    {
     "name": "stdout",
     "output_type": "stream",
     "text": [
      "The r-squared is: 0.6139628044890607\n"
     ]
    },
    {
     "data": {
      "image/png": "[encoded data removed]",
      "text/plain": [
       "<Figure size 432x288 with 1 Axes>"
      ]
     },
     "metadata": {
      "needs_background": "light"
     },
     "output_type": "display_data"
    },
    {
     "data": {
      "text/plain": [
       "<Figure size 432x288 with 0 Axes>"
      ]
     },
     "metadata": {},
     "output_type": "display_data"
    }
   ],
   "source": [
    "# Create Plot\n",
    "x_values_1 = southern_hemisphere[\"Lat\"]\n",
    "y_values_1 = southern_hemisphere[\"Max temp\"]\n",
    "(slope, intercept, rvalue, pvalue, stderr) = stats.linregress(x_values_1, y_values_1)\n",
    "regress_values = x_values_1 * slope +intercept\n",
    "line_equation = \"y=\" + str(round(slope,2)) + \"x + \" + str(round(intercept,2))\n",
    " \n",
    "plt.scatter(x_values_1, y_values_1)\n",
    "plt.plot(x_values_1, regress_values, \"r-\")\n",
    "plt.annotate(line_equation, (20,50), fontsize=12,color=\"red\")\n",
    "print(f\"The r-squared is: {rvalue**2}\")\n",
    "      \n",
    "plt.title(\"Southern Hemisphere Max Temp Vs Latitude Linear Regression\")\n",
    "plt.xlabel(\"Latitude\")\n",
    "plt.ylabel(\"Max Temp\")\n",
    "plt.show()\n",
    "plt.savefig(\"Southern Max temp vs lat linear reg.png\")"
   ]
  },
  {
   "cell_type": "markdown",
   "metadata": {},
   "source": [
    "####  Northern Hemisphere - Humidity (%) vs. Latitude Linear Regression"
   ]
  },
  {
   "cell_type": "code",
   "execution_count": 24,
   "metadata": {},
   "outputs": [
    {
     "name": "stdout",
     "output_type": "stream",
     "text": [
      "The r-squared is: 0.0010629584159397186\n"
     ]
    },
    {
     "data": {
      "image/png": "[encoded data removed]",
      "text/plain": [
       "<Figure size 432x288 with 1 Axes>"
      ]
     },
     "metadata": {
      "needs_background": "light"
     },
     "output_type": "display_data"
    },
    {
     "data": {
      "text/plain": [
       "<Figure size 432x288 with 0 Axes>"
      ]
     },
     "metadata": {},
     "output_type": "display_data"
    }
   ],
   "source": [
    "# Create Plot\n",
    "x_values_1 = northern_hemisphere[\"Lat\"]\n",
    "y_values_1 = northern_hemisphere[\"Humidity\"]\n",
    "(slope, intercept, rvalue, pvalue, stderr) = stats.linregress(x_values_1, y_values_1)\n",
    "regress_values = x_values_1 * slope +intercept\n",
    "line_equation = \"y=\" + str(round(slope,2)) + \"x + \" + str(round(intercept,2))\n",
    " \n",
    "plt.scatter(x_values_1, y_values_1)\n",
    "plt.plot(x_values_1, regress_values, \"r-\")\n",
    "plt.annotate(line_equation, (20,50), fontsize=12,color=\"red\")\n",
    "print(f\"The r-squared is: {rvalue**2}\")\n",
    "      \n",
    "plt.title(\"Northern Hemisphere Humidity (%) Vs Latitude Linear Regression\")\n",
    "plt.xlabel(\"Latitude\")\n",
    "plt.ylabel(\"Humidity\")\n",
    "plt.show()\n",
    "plt.savefig(\"Northern Humidity vs lat linear reg.png\")"
   ]
  },
  {
   "cell_type": "markdown",
   "metadata": {},
   "source": [
    "####  Southern Hemisphere - Humidity (%) vs. Latitude Linear Regression"
   ]
  },
  {
   "cell_type": "code",
   "execution_count": 25,
   "metadata": {},
   "outputs": [
    {
     "name": "stdout",
     "output_type": "stream",
     "text": [
      "The r-squared is: 0.0014743980394925935\n"
     ]
    },
    {
     "data": {
      "image/png": "[encoded data removed]",
      "text/plain": [
       "<Figure size 432x288 with 1 Axes>"
      ]
     },
     "metadata": {
      "needs_background": "light"
     },
     "output_type": "display_data"
    },
    {
     "data": {
      "text/plain": [
       "<Figure size 432x288 with 0 Axes>"
      ]
     },
     "metadata": {},
     "output_type": "display_data"
    }
   ],
   "source": [
    "# Create Plot\n",
    "x_values_1 = southern_hemisphere[\"Lat\"]\n",
    "y_values_1 = southern_hemisphere[\"Humidity\"]\n",
    "(slope, intercept, rvalue, pvalue, stderr) = stats.linregress(x_values_1, y_values_1)\n",
    "regress_values = x_values_1 * slope +intercept\n",
    "line_equation = \"y=\" + str(round(slope,2)) + \"x + \" + str(round(intercept,2))\n",
    " \n",
    "plt.scatter(x_values_1, y_values_1)\n",
    "plt.plot(x_values_1, regress_values, \"r-\")\n",
    "plt.annotate(line_equation, (20,50), fontsize=12,color=\"red\")\n",
    "print(f\"The r-squared is: {rvalue**2}\")\n",
    "      \n",
    "plt.title(\"Southern Hemisphere Humidity (%) Vs Latitude Linear Regression\")\n",
    "plt.xlabel(\"Latitude\")\n",
    "plt.ylabel(\"Humidity\")\n",
    "plt.show()\n",
    "plt.savefig(\"Southern Humidity vs lat linear reg.png\")"
   ]
  },
  {
   "cell_type": "markdown",
   "metadata": {},
   "source": [
    "####  Northern Hemisphere - Cloudiness (%) vs. Latitude Linear Regression"
   ]
  },
  {
   "cell_type": "code",
   "execution_count": 26,
   "metadata": {},
   "outputs": [
    {
     "name": "stdout",
     "output_type": "stream",
     "text": [
      "The r-squared is: 0.0032969176029509044\n"
     ]
    },
    {
     "data": {
      "image/png": "[encoded data removed]",
      "text/plain": [
       "<Figure size 432x288 with 1 Axes>"
      ]
     },
     "metadata": {
      "needs_background": "light"
     },
     "output_type": "display_data"
    },
    {
     "data": {
      "text/plain": [
       "<Figure size 432x288 with 0 Axes>"
      ]
     },
     "metadata": {},
     "output_type": "display_data"
    }
   ],
   "source": [
    "# Create Plot\n",
    "x_values_1 = northern_hemisphere[\"Lat\"]\n",
    "y_values_1 = northern_hemisphere[\"Cloudiness\"]\n",
    "(slope, intercept, rvalue, pvalue, stderr) = stats.linregress(x_values_1, y_values_1)\n",
    "regress_values = x_values_1 * slope +intercept\n",
    "line_equation = \"y=\" + str(round(slope,2)) + \"x + \" + str(round(intercept,2))\n",
    " \n",
    "plt.scatter(x_values_1, y_values_1)\n",
    "plt.plot(x_values_1, regress_values, \"r-\")\n",
    "plt.annotate(line_equation, (20,50), fontsize=12,color=\"red\")\n",
    "print(f\"The r-squared is: {rvalue**2}\")\n",
    "      \n",
    "plt.title(\"Northern Hemisphere Cloudiness (%) Vs Latitude Linear Regression\")\n",
    "plt.xlabel(\"Latitude\")\n",
    "plt.ylabel(\"Cloudiness\")\n",
    "plt.show()\n",
    "plt.savefig(\"Northern Cloudiness vs lat linear reg.png\")"
   ]
  },
  {
   "cell_type": "markdown",
   "metadata": {},
   "source": [
    "####  Southern Hemisphere - Cloudiness (%) vs. Latitude Linear Regression"
   ]
  },
  {
   "cell_type": "code",
   "execution_count": 27,
   "metadata": {},
   "outputs": [
    {
     "name": "stdout",
     "output_type": "stream",
     "text": [
      "The r-squared is: 0.04255522478060527\n"
     ]
    },
    {
     "data": {
      "image/png": "[encoded data removed]",
      "text/plain": [
       "<Figure size 432x288 with 1 Axes>"
      ]
     },
     "metadata": {
      "needs_background": "light"
     },
     "output_type": "display_data"
    },
    {
     "data": {
      "text/plain": [
       "<Figure size 432x288 with 0 Axes>"
      ]
     },
     "metadata": {},
     "output_type": "display_data"
    }
   ],
   "source": [
    "# Create Plot\n",
    "x_values_1 = southern_hemisphere[\"Lat\"]\n",
    "y_values_1 = southern_hemisphere[\"Cloudiness\"]\n",
    "(slope, intercept, rvalue, pvalue, stderr) = stats.linregress(x_values_1, y_values_1)\n",
    "regress_values = x_values_1 * slope +intercept\n",
    "line_equation = \"y=\" + str(round(slope,2)) + \"x + \" + str(round(intercept,2))\n",
    " \n",
    "plt.scatter(x_values_1, y_values_1)\n",
    "plt.plot(x_values_1, regress_values, \"r-\")\n",
    "plt.annotate(line_equation, (20,50), fontsize=12,color=\"red\")\n",
    "print(f\"The r-squared is: {rvalue**2}\")\n",
    "      \n",
    "plt.title(\"Southern Hemisphere Cloudiness (%) Vs Latitude Linear Regression\")\n",
    "plt.xlabel(\"Latitude\")\n",
    "plt.ylabel(\"Cloudiness\")\n",
    "plt.show()\n",
    "plt.savefig(\"Southern Cloudiness vs lat linear reg.png\")"
   ]
  },
  {
   "cell_type": "markdown",
   "metadata": {},
   "source": [
    "####  Northern Hemisphere - Wind Speed (mph) vs. Latitude Linear Regression"
   ]
  },
  {
   "cell_type": "code",
   "execution_count": 28,
   "metadata": {
    "scrolled": true
   },
   "outputs": [
    {
     "name": "stdout",
     "output_type": "stream",
     "text": [
      "The r-squared is: 0.002062114250134323\n"
     ]
    },
    {
     "data": {
      "image/png": "[encoded data removed]",
      "text/plain": [
       "<Figure size 432x288 with 1 Axes>"
      ]
     },
     "metadata": {
      "needs_background": "light"
     },
     "output_type": "display_data"
    },
    {
     "data": {
      "text/plain": [
       "<Figure size 432x288 with 0 Axes>"
      ]
     },
     "metadata": {},
     "output_type": "display_data"
    }
   ],
   "source": [
    "# Create Plot\n",
    "x_values_1 = northern_hemisphere[\"Lat\"]\n",
    "y_values_1 = northern_hemisphere[\"Wind speed\"]\n",
    "(slope, intercept, rvalue, pvalue, stderr) = stats.linregress(x_values_1, y_values_1)\n",
    "regress_values = x_values_1 * slope +intercept\n",
    "line_equation = \"y=\" + str(round(slope,2)) + \"x + \" + str(round(intercept,2))\n",
    " \n",
    "plt.scatter(x_values_1, y_values_1)\n",
    "plt.plot(x_values_1, regress_values, \"r-\")\n",
    "plt.annotate(line_equation, (20,50), fontsize=12,color=\"red\")\n",
    "print(f\"The r-squared is: {rvalue**2}\")\n",
    "      \n",
    "plt.title(\"Northern Hemisphere Wind Speed (mph) Vs Latitude Linear Regression\")\n",
    "plt.xlabel(\"Latitude\")\n",
    "plt.ylabel(\"Wind Speed\")\n",
    "plt.show()\n",
    "plt.savefig(\"Northern Wind speed vs lat linear reg.png\")"
   ]
  },
  {
   "cell_type": "markdown",
   "metadata": {},
   "source": [
    "####  Southern Hemisphere - Wind Speed (mph) vs. Latitude Linear Regression"
   ]
  },
  {
   "cell_type": "code",
   "execution_count": 52,
   "metadata": {},
   "outputs": [
    {
     "name": "stdout",
     "output_type": "stream",
     "text": [
      "The r-squared is: 0.004332999927243675\n"
     ]
    },
    {
     "data": {
      "image/png": "[encoded data removed]",
      "text/plain": [
       "<Figure size 432x288 with 1 Axes>"
      ]
     },
     "metadata": {
      "needs_background": "light"
     },
     "output_type": "display_data"
    },
    {
     "data": {
      "text/plain": [
       "<Figure size 432x288 with 0 Axes>"
      ]
     },
     "metadata": {},
     "output_type": "display_data"
    }
   ],
   "source": [
    "# Create Plot\n",
    "x_values_1 = southern_hemisphere[\"Lat\"]\n",
    "y_values_1 = southern_hemisphere[\"Wind speed\"]\n",
    "(slope, intercept, rvalue, pvalue, stderr) = stats.linregress(x_values_1, y_values_1)\n",
    "regress_values = x_values_1 * slope +intercept\n",
    "line_equation = \"y=\" + str(round(slope,2)) + \"x + \" + str(round(intercept,2))\n",
    "\n",
    "plt.scatter(x_values_1, y_values_1)\n",
    "plt.plot(x_values_1, regress_values, \"r-\")\n",
    "plt.annotate(line_equation, (20,50), fontsize=12,color=\"red\")\n",
    "print(f\"The r-squared is: {rvalue**2}\")\n",
    "      \n",
    "plt.title(\"Southern Hemisphere Wind Speed (mph) Vs Latitude Linear Regression\")\n",
    "plt.xlabel(\"Latitude\")\n",
    "plt.ylabel(\"Wind Speed\")\n",
    "plt.show()\n",
    "plt.savefig(\"Southern Wind speed vs lat linear reg.png\")"
   ]
  },
  {
   "cell_type": "code",
   "execution_count": null,
   "metadata": {},
   "outputs": [],
   "source": []
  },
  {
   "cell_type": "code",
   "execution_count": null,
   "metadata": {},
   "outputs": [],
   "source": []
  }
 ],
 "metadata": {
  "anaconda-cloud": {},
  "kernel_info": {
   "name": "python3"
  },
  "kernelspec": {
   "display_name": "Python 3",
   "language": "python",
   "name": "python3"
  },
  "language_info": {
   "codemirror_mode": {
    "name": "ipython",
    "version": 3
   },
   "file_extension": ".py",
   "mimetype": "text/x-python",
   "name": "python",
   "nbconvert_exporter": "python",
   "pygments_lexer": "ipython3",
   "version": "3.7.6"
  },
  "latex_envs": {
   "LaTeX_envs_menu_present": true,
   "autoclose": false,
   "autocomplete": true,
   "bibliofile": "biblio.bib",
   "cite_by": "apalike",
   "current_citInitial": 1,
   "eqLabelWithNumbers": true,
   "eqNumInitial": 1,
   "hotkeys": {
    "equation": "Ctrl-E",
    "itemize": "Ctrl-I"
   },
   "labels_anchors": false,
   "latex_user_defs": false,
   "report_style_numbering": false,
   "user_envs_cfg": false
  },
  "nteract": {
   "version": "0.12.3"
  }
 },
 "nbformat": 4,
 "nbformat_minor": 2
}
