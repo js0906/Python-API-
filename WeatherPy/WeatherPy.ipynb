{
 "cells": [
  {
   "cell_type": "markdown",
   "metadata": {},
   "source": [
    "# WeatherPy\n",
    "----\n",
    "\n",
    "#### Note\n",
    "* Instructions have been included for each segment. You do not have to follow them exactly, but they are included to help you think through the steps."
   ]
  },
  {
   "cell_type": "markdown",
   "metadata": {},
   "source": [
    "##Three Observable Trends Based on Data\n",
    "1. Latitude and max temperature are correlated - latitude of 20 yields the highest temperatures in the northern hemisphere, a negative correlation.\n",
    "2. Latitude between 20-30 yields the lowest humidity percentages in the northern hemisphere.\n",
    "3. Cloudiness vs latitude showed no trend "
   ]
  },
  {
   "cell_type": "code",
   "execution_count": 4,
   "metadata": {},
   "outputs": [
    {
     "name": "stdout",
     "output_type": "stream",
     "text": [
      "Requirement already satisfied: citipy in c:\\users\\jsodhi\\anaconda3\\lib\\site-packages (0.0.5)\n",
      "Requirement already satisfied: kdtree>=0.12 in c:\\users\\jsodhi\\anaconda3\\lib\\site-packages (from citipy) (0.16)\n"
     ]
    }
   ],
   "source": [
    "!pip install citipy"
   ]
  },
  {
   "cell_type": "code",
   "execution_count": 5,
   "metadata": {
    "scrolled": true
   },
   "outputs": [],
   "source": [
    "# Dependencies and Setup\n",
    "import matplotlib.pyplot as plt\n",
    "import pandas as pd\n",
    "import numpy as np\n",
    "import requests\n",
    "import time\n",
    "import scipy.stats as stats\n",
    "from scipy.stats import linregress\n",
    "\n",
    "# Import API key\n",
    "from api_keys import weather_api_key\n",
    "\n",
    "# Incorporated citipy to determine city based on latitude and longitude\n",
    "from citipy import citipy\n",
    "\n",
    "# Output File (CSV)\n",
    "output_data_file = \"output_data/cities.csv\"\n",
    "\n",
    "# Range of latitudes and longitudes\n",
    "lat_range = (-90, 90)\n",
    "lng_range = (-180, 180)"
   ]
  },
  {
   "cell_type": "markdown",
   "metadata": {},
   "source": [
    "## Generate Cities List"
   ]
  },
  {
   "cell_type": "code",
   "execution_count": 6,
   "metadata": {},
   "outputs": [
    {
     "data": {
      "text/plain": [
       "607"
      ]
     },
     "execution_count": 6,
     "metadata": {},
     "output_type": "execute_result"
    }
   ],
   "source": [
    "# List for holding lat_lngs and cities\n",
    "lat_lngs = []\n",
    "cities = []\n",
    "\n",
    "# Create a set of random lat and lng combinations\n",
    "lats = np.random.uniform(lat_range[0], lat_range[1], size=1500)\n",
    "lngs = np.random.uniform(lng_range[0], lng_range[1], size=1500)\n",
    "lat_lngs = zip(lats, lngs)\n",
    "\n",
    "# Identify nearest city for each lat, lng combination\n",
    "for lat_lng in lat_lngs:\n",
    "    city = citipy.nearest_city(lat_lng[0], lat_lng[1]).city_name\n",
    "    \n",
    "    # If the city is unique, then add it to a our cities list\n",
    "    if city not in cities:\n",
    "        cities.append(city)\n",
    "\n",
    "# Print the city count to confirm sufficient count\n",
    "len(cities)"
   ]
  },
  {
   "cell_type": "markdown",
   "metadata": {},
   "source": [
    "### Perform API Calls\n",
    "* Perform a weather check on each city using a series of successive API calls.\n",
    "* Include a print log of each city as it'sbeing processed (with the city number and city name).\n"
   ]
  },
  {
   "cell_type": "code",
   "execution_count": 7,
   "metadata": {},
   "outputs": [
    {
     "name": "stdout",
     "output_type": "stream",
     "text": [
      "Beginning Data Retrieval\n",
      "-----------------------------------------\n",
      "Processing Record 0 of set 1 | puerto baquerizo moreno\n",
      "Processing Record 1 of set 1 | hermanus\n",
      "Processing Record 2 of set 1 | tasiilaq\n",
      "Processing Record 3 of set 1 | coahuayana\n",
      "Processing Record 4 of set 1 | vostok\n",
      "Processing Record 5 of set 1 | panguna\n",
      "Processing Record 6 of set 1 | rikitea\n",
      "Processing Record 7 of set 1 | las palmas\n",
      "Processing Record 8 of set 1 | saint-leu\n",
      "Processing Record 9 of set 1 | kavaratti\n",
      "Processing Record 10 of set 1 | cap-aux-meules\n",
      "Processing Record 11 of set 1 | constitucion\n",
      "Processing Record 12 of set 1 | nikolskoye\n",
      "Processing Record 13 of set 1 | cape town\n",
      "Processing Record 14 of set 1 | jamestown\n",
      "Processing Record 15 of set 1 | longyearbyen\n",
      "Processing Record 16 of set 1 | bluff\n",
      "Processing Record 17 of set 1 | mouila\n",
      "Processing Record 18 of set 1 | bundaberg\n",
      "Processing Record 19 of set 1 | rawson\n",
      "Processing Record 20 of set 1 | chapleau\n",
      "Processing Record 21 of set 1 | dikson\n",
      "Processing Record 22 of set 1 | vaini\n",
      "Processing Record 23 of set 1 | lompoc\n",
      "Processing Record 24 of set 1 | avarua\n",
      "Processing Record 25 of set 1 | arraial do cabo\n",
      "Processing Record 26 of set 1 | talnakh\n",
      "Processing Record 27 of set 1 | banda aceh\n",
      "Processing Record 28 of set 1 | saskylakh\n",
      "Processing Record 29 of set 1 | lebu\n",
      "Missing field/result....skipping.\n",
      "Processing Record 31 of set 1 | chokurdakh\n",
      "Processing Record 32 of set 1 | pevek\n",
      "Processing Record 33 of set 1 | san patricio\n",
      "Processing Record 34 of set 1 | yulara\n",
      "Processing Record 35 of set 1 | salinas\n",
      "Processing Record 36 of set 1 | vila velha\n",
      "Processing Record 37 of set 1 | upernavik\n",
      "Processing Record 38 of set 1 | warrington\n",
      "Processing Record 39 of set 1 | alyangula\n",
      "Processing Record 40 of set 1 | tuktoyaktuk\n",
      "Processing Record 41 of set 1 | krasnyy chikoy\n",
      "Processing Record 42 of set 1 | sur\n",
      "Processing Record 43 of set 1 | machado\n",
      "Processing Record 44 of set 1 | puerto ayora\n",
      "Processing Record 45 of set 1 | inirida\n",
      "Processing Record 46 of set 1 | watsonville\n",
      "Processing Record 47 of set 1 | giyani\n",
      "Processing Record 48 of set 1 | souillac\n",
      "Processing Record 49 of set 1 | luderitz\n",
      "Processing Record 50 of set 1 | yellowknife\n",
      "Processing Record 51 of set 1 | srednekolymsk\n",
      "Processing Record 52 of set 1 | bengkulu\n",
      "Processing Record 53 of set 1 | kapaa\n",
      "Processing Record 54 of set 1 | castro\n",
      "Processing Record 55 of set 1 | korla\n",
      "Processing Record 56 of set 1 | new norfolk\n",
      "Processing Record 57 of set 1 | ushuaia\n",
      "Missing field/result....skipping.\n",
      "Missing field/result....skipping.\n",
      "Processing Record 60 of set 1 | hobart\n",
      "Processing Record 61 of set 1 | dingle\n",
      "Processing Record 62 of set 1 | mahebourg\n",
      "Processing Record 63 of set 1 | ponta do sol\n",
      "Processing Record 64 of set 1 | lakefield\n",
      "Processing Record 65 of set 1 | atuona\n",
      "Missing field/result....skipping.\n",
      "Processing Record 67 of set 1 | zastavna\n",
      "Missing field/result....skipping.\n",
      "Processing Record 69 of set 1 | bambous virieux\n",
      "Missing field/result....skipping.\n",
      "Processing Record 71 of set 1 | kruisfontein\n",
      "Processing Record 72 of set 1 | busselton\n",
      "Missing field/result....skipping.\n",
      "Processing Record 74 of set 1 | samdrup jongkhar\n",
      "Processing Record 75 of set 1 | mataura\n",
      "Processing Record 76 of set 1 | hithadhoo\n",
      "Processing Record 77 of set 1 | port alfred\n",
      "Processing Record 78 of set 1 | iquique\n",
      "Processing Record 79 of set 1 | jurilovca\n",
      "Processing Record 80 of set 1 | kavieng\n",
      "Processing Record 81 of set 1 | oranjestad\n",
      "Processing Record 82 of set 1 | dali\n",
      "Processing Record 83 of set 1 | mazamitla\n",
      "Processing Record 84 of set 1 | esperance\n",
      "Processing Record 85 of set 1 | fortuna\n",
      "Processing Record 86 of set 1 | barrow\n",
      "Processing Record 87 of set 1 | los llanos de aridane\n",
      "Processing Record 88 of set 1 | ilulissat\n",
      "Processing Record 89 of set 1 | mar del plata\n",
      "Processing Record 90 of set 1 | tiksi\n",
      "Processing Record 91 of set 1 | port macquarie\n",
      "Missing field/result....skipping.\n",
      "Missing field/result....skipping.\n",
      "Processing Record 94 of set 1 | guerrero negro\n",
      "Processing Record 95 of set 1 | pacific grove\n",
      "Processing Record 96 of set 1 | sao filipe\n",
      "Processing Record 97 of set 1 | challapata\n",
      "Processing Record 98 of set 1 | college\n",
      "Processing Record 99 of set 1 | manzhouli\n",
      "Processing Record 100 of set 1 | yagodnoye\n",
      "Processing Record 101 of set 1 | saint-augustin\n",
      "Processing Record 102 of set 1 | ulladulla\n",
      "Processing Record 103 of set 1 | tanout\n",
      "Missing field/result....skipping.\n",
      "Processing Record 105 of set 1 | albany\n",
      "Processing Record 106 of set 1 | saint george\n",
      "Processing Record 107 of set 1 | jiutai\n",
      "Processing Record 108 of set 1 | xichang\n",
      "Processing Record 109 of set 1 | cabo san lucas\n",
      "Processing Record 110 of set 1 | san michele al tagliamento\n",
      "Processing Record 111 of set 1 | arlit\n",
      "Missing field/result....skipping.\n",
      "Processing Record 113 of set 1 | huarmey\n",
      "Processing Record 114 of set 1 | bredasdorp\n",
      "Processing Record 115 of set 1 | qaanaaq\n",
      "Processing Record 116 of set 1 | saint-philippe\n",
      "Missing field/result....skipping.\n",
      "Processing Record 118 of set 1 | itarema\n",
      "Processing Record 119 of set 1 | ayia galini\n",
      "Processing Record 120 of set 1 | hilo\n",
      "Processing Record 121 of set 1 | bonito\n",
      "Processing Record 122 of set 1 | caravelas\n",
      "Processing Record 123 of set 1 | teya\n",
      "Processing Record 124 of set 1 | walvis bay\n",
      "Processing Record 125 of set 1 | teknaf\n",
      "Processing Record 126 of set 1 | namibe\n",
      "Processing Record 127 of set 1 | husavik\n",
      "Processing Record 128 of set 1 | olinda\n",
      "Processing Record 129 of set 1 | dreux\n",
      "Processing Record 130 of set 1 | nemuro\n",
      "Missing field/result....skipping.\n",
      "Missing field/result....skipping.\n",
      "Processing Record 133 of set 1 | inuvik\n",
      "Processing Record 134 of set 1 | la asuncion\n",
      "Missing field/result....skipping.\n",
      "Processing Record 136 of set 1 | lasa\n",
      "Processing Record 137 of set 1 | georgetown\n",
      "Processing Record 138 of set 1 | dyersburg\n",
      "Processing Record 139 of set 1 | avera\n",
      "Processing Record 140 of set 1 | iqaluit\n",
      "Processing Record 141 of set 1 | mantua\n",
      "Processing Record 142 of set 1 | merrill\n",
      "Missing field/result....skipping.\n",
      "Processing Record 144 of set 1 | sayyan\n",
      "Processing Record 145 of set 1 | belaya gora\n",
      "Processing Record 146 of set 1 | khatanga\n",
      "Processing Record 147 of set 1 | lumby\n",
      "Processing Record 148 of set 1 | brainerd\n",
      "Processing Record 149 of set 1 | luena\n",
      "Processing Record 150 of set 1 | oranjemund\n",
      "Processing Record 151 of set 1 | dongsheng\n",
      "Processing Record 152 of set 1 | cidreira\n",
      "Processing Record 153 of set 1 | ripoll\n",
      "Processing Record 154 of set 1 | torbay\n",
      "Processing Record 155 of set 1 | punta arenas\n",
      "Processing Record 156 of set 1 | carutapera\n",
      "Processing Record 157 of set 1 | mananara\n",
      "Processing Record 158 of set 1 | namatanai\n",
      "Processing Record 159 of set 1 | ahipara\n",
      "Processing Record 160 of set 1 | piacenza\n",
      "Processing Record 161 of set 1 | yinchuan\n",
      "Processing Record 162 of set 1 | sept-iles\n",
      "Processing Record 163 of set 1 | brokopondo\n",
      "Processing Record 164 of set 1 | mattru\n",
      "Processing Record 165 of set 1 | bo rai\n",
      "Processing Record 166 of set 1 | marquette\n",
      "Processing Record 167 of set 1 | penzance\n",
      "Processing Record 168 of set 1 | pingzhuang\n",
      "Processing Record 169 of set 1 | hambantota\n",
      "Processing Record 170 of set 1 | margate\n",
      "Processing Record 171 of set 1 | sola\n",
      "Processing Record 172 of set 1 | thompson\n",
      "Processing Record 173 of set 1 | kahului\n",
      "Processing Record 174 of set 1 | dawei\n",
      "Processing Record 175 of set 1 | te anau\n",
      "Processing Record 176 of set 1 | bethel\n",
      "Processing Record 177 of set 1 | haines junction\n",
      "Processing Record 178 of set 1 | zhezkazgan\n",
      "Processing Record 179 of set 1 | chilia veche\n",
      "Processing Record 180 of set 1 | ternate\n",
      "Processing Record 181 of set 1 | bathsheba\n",
      "Processing Record 182 of set 1 | joensuu\n",
      "Missing field/result....skipping.\n",
      "Processing Record 184 of set 1 | nanortalik\n",
      "Processing Record 185 of set 1 | poggibonsi\n",
      "Processing Record 186 of set 1 | pangnirtung\n",
      "Missing field/result....skipping.\n",
      "Missing field/result....skipping.\n",
      "Processing Record 189 of set 1 | pathein\n",
      "Missing field/result....skipping.\n",
      "Processing Record 191 of set 1 | ust-kan\n",
      "Processing Record 192 of set 1 | kysyl-syr\n",
      "Processing Record 193 of set 1 | kaitangata\n",
      "Processing Record 194 of set 1 | carnarvon\n",
      "Processing Record 195 of set 1 | evensk\n",
      "Processing Record 196 of set 1 | tuatapere\n",
      "Processing Record 197 of set 1 | klaksvik\n"
     ]
    },
    {
     "name": "stdout",
     "output_type": "stream",
     "text": [
      "Processing Record 198 of set 1 | griffith\n",
      "Processing Record 199 of set 1 | lorengau\n",
      "Processing Record 200 of set 1 | kodiak\n",
      "Processing Record 201 of set 1 | meulaboh\n",
      "Processing Record 202 of set 1 | portland\n",
      "Missing field/result....skipping.\n",
      "Processing Record 204 of set 1 | butaritari\n",
      "Processing Record 205 of set 1 | krasnoarmeyskiy\n",
      "Processing Record 206 of set 1 | khasan\n",
      "Processing Record 207 of set 1 | vila franca do campo\n",
      "Processing Record 208 of set 1 | isangel\n",
      "Processing Record 209 of set 1 | sitka\n",
      "Processing Record 210 of set 1 | whitehorse\n",
      "Processing Record 211 of set 1 | honningsvag\n",
      "Processing Record 212 of set 1 | priladozhskiy\n",
      "Processing Record 213 of set 1 | flinders\n",
      "Processing Record 214 of set 1 | hasaki\n",
      "Processing Record 215 of set 1 | yar-sale\n",
      "Processing Record 216 of set 1 | nam som\n",
      "Processing Record 217 of set 1 | victoria\n",
      "Missing field/result....skipping.\n",
      "Processing Record 219 of set 1 | pisco\n",
      "Processing Record 220 of set 1 | khvastovichi\n",
      "Processing Record 221 of set 1 | trairi\n",
      "Processing Record 222 of set 1 | kisangani\n",
      "Processing Record 223 of set 1 | san lorenzo\n",
      "Processing Record 224 of set 1 | laguna\n",
      "Processing Record 225 of set 1 | euclides da cunha\n",
      "Processing Record 226 of set 1 | hoa binh\n",
      "Processing Record 227 of set 1 | gizo\n",
      "Processing Record 228 of set 1 | hovd\n",
      "Processing Record 229 of set 1 | vestmannaeyjar\n",
      "Processing Record 230 of set 1 | kabare\n",
      "Missing field/result....skipping.\n",
      "Processing Record 232 of set 1 | harnosand\n",
      "Processing Record 233 of set 1 | mount isa\n",
      "Processing Record 234 of set 1 | hargeysa\n",
      "Processing Record 235 of set 1 | gat\n",
      "Processing Record 236 of set 1 | airai\n",
      "Missing field/result....skipping.\n",
      "Processing Record 238 of set 1 | kyshtovka\n",
      "Processing Record 239 of set 1 | aasiaat\n",
      "Processing Record 240 of set 1 | samarai\n",
      "Processing Record 241 of set 1 | taoudenni\n",
      "Processing Record 242 of set 1 | palmer\n",
      "Processing Record 243 of set 1 | nara\n",
      "Processing Record 244 of set 1 | saldanha\n",
      "Processing Record 245 of set 1 | sorland\n",
      "Processing Record 246 of set 1 | takoradi\n",
      "Processing Record 247 of set 1 | ariquemes\n",
      "Processing Record 248 of set 1 | talaya\n",
      "Processing Record 249 of set 1 | thunder bay\n",
      "Processing Record 250 of set 1 | midland\n",
      "Processing Record 251 of set 1 | helena\n",
      "Processing Record 252 of set 1 | nassau\n",
      "Processing Record 253 of set 1 | sakakah\n",
      "Processing Record 254 of set 1 | mehamn\n",
      "Processing Record 255 of set 1 | faanui\n",
      "Processing Record 256 of set 1 | semirom\n",
      "Processing Record 257 of set 1 | saint-georges\n",
      "Processing Record 258 of set 1 | port lincoln\n",
      "Processing Record 259 of set 1 | puerto wilches\n",
      "Processing Record 260 of set 1 | saint-pierre\n",
      "Processing Record 261 of set 1 | ostrovnoy\n",
      "Processing Record 262 of set 1 | kolpashevo\n",
      "Processing Record 263 of set 1 | muros\n",
      "Processing Record 264 of set 1 | menongue\n",
      "Processing Record 265 of set 1 | kualakapuas\n",
      "Processing Record 266 of set 1 | weligama\n",
      "Processing Record 267 of set 1 | puerto ayacucho\n",
      "Processing Record 268 of set 1 | chuy\n",
      "Processing Record 269 of set 1 | cefalu\n",
      "Missing field/result....skipping.\n",
      "Processing Record 271 of set 1 | hami\n",
      "Processing Record 272 of set 1 | chupa\n",
      "Processing Record 273 of set 1 | wadi musa\n",
      "Processing Record 274 of set 1 | ayacucho\n",
      "Processing Record 275 of set 1 | mehran\n",
      "Processing Record 276 of set 1 | severobaykalsk\n",
      "Processing Record 277 of set 1 | qiongshan\n",
      "Processing Record 278 of set 1 | flin flon\n",
      "Processing Record 279 of set 1 | ukiah\n",
      "Processing Record 280 of set 1 | narsaq\n",
      "Processing Record 281 of set 1 | koson\n",
      "Processing Record 282 of set 1 | fairbanks\n",
      "Processing Record 283 of set 1 | kalemie\n",
      "Processing Record 284 of set 1 | asau\n",
      "Processing Record 285 of set 1 | wanlaweyn\n",
      "Processing Record 286 of set 1 | maningrida\n",
      "Processing Record 287 of set 1 | requena\n",
      "Processing Record 288 of set 1 | boende\n",
      "Processing Record 289 of set 1 | cairns\n",
      "Processing Record 290 of set 1 | san quintin\n",
      "Processing Record 291 of set 1 | jardim\n",
      "Processing Record 292 of set 1 | tumaco\n",
      "Processing Record 293 of set 1 | elmadag\n",
      "Processing Record 294 of set 1 | maragogi\n",
      "Processing Record 295 of set 1 | havoysund\n",
      "Processing Record 296 of set 1 | klyuchi\n",
      "Processing Record 297 of set 1 | xining\n",
      "Processing Record 298 of set 1 | kunyang\n",
      "Processing Record 299 of set 1 | ziarat\n",
      "Processing Record 300 of set 1 | songjianghe\n",
      "Processing Record 301 of set 1 | batemans bay\n",
      "Processing Record 302 of set 1 | tupik\n",
      "Processing Record 303 of set 1 | tashtagol\n",
      "Processing Record 304 of set 1 | jackson\n",
      "Processing Record 305 of set 1 | norman wells\n",
      "Processing Record 306 of set 1 | wilmington\n",
      "Processing Record 307 of set 1 | carora\n",
      "Missing field/result....skipping.\n",
      "Processing Record 309 of set 1 | krasnogvardeyets\n",
      "Processing Record 310 of set 1 | yondo\n",
      "Processing Record 311 of set 1 | kingisepp\n",
      "Processing Record 312 of set 1 | kaeo\n",
      "Processing Record 313 of set 1 | uglegorsk\n",
      "Processing Record 314 of set 1 | kieta\n",
      "Processing Record 315 of set 1 | bilibino\n",
      "Processing Record 316 of set 1 | coquimbo\n",
      "Processing Record 317 of set 1 | tessalit\n",
      "Processing Record 318 of set 1 | karasjok\n",
      "Processing Record 319 of set 1 | foumban\n",
      "Processing Record 320 of set 1 | vao\n",
      "Processing Record 321 of set 1 | rognan\n",
      "Processing Record 322 of set 1 | cap malheureux\n",
      "Processing Record 323 of set 1 | caconda\n",
      "Processing Record 324 of set 1 | ribeira grande\n",
      "Processing Record 325 of set 1 | yangjiang\n",
      "Processing Record 326 of set 1 | newala\n",
      "Processing Record 327 of set 1 | hofn\n",
      "Processing Record 328 of set 1 | east london\n",
      "Processing Record 329 of set 1 | amahai\n",
      "Processing Record 330 of set 1 | palmas\n",
      "Processing Record 331 of set 1 | bauchi\n",
      "Processing Record 332 of set 1 | rock sound\n",
      "Processing Record 333 of set 1 | murgab\n",
      "Processing Record 334 of set 1 | necochea\n",
      "Processing Record 335 of set 1 | provideniya\n",
      "Processing Record 336 of set 1 | zhigansk\n",
      "Processing Record 337 of set 1 | eureka\n",
      "Processing Record 338 of set 1 | asosa\n",
      "Processing Record 339 of set 1 | cherskiy\n",
      "Processing Record 340 of set 1 | dunedin\n",
      "Processing Record 341 of set 1 | ivanovka\n",
      "Processing Record 342 of set 1 | emerald\n",
      "Processing Record 343 of set 1 | tazmalt\n",
      "Processing Record 344 of set 1 | karpathos\n",
      "Processing Record 345 of set 1 | resistencia\n",
      "Processing Record 346 of set 1 | port blair\n",
      "Processing Record 347 of set 1 | mansa\n",
      "Processing Record 348 of set 1 | ancud\n",
      "Missing field/result....skipping.\n",
      "Processing Record 350 of set 1 | la baule-escoublac\n",
      "Processing Record 351 of set 1 | kuching\n",
      "Processing Record 352 of set 1 | nordfjordeid\n",
      "Processing Record 353 of set 1 | iracoubo\n",
      "Processing Record 354 of set 1 | bang saphan\n",
      "Processing Record 355 of set 1 | buala\n",
      "Processing Record 356 of set 1 | rong kwang\n",
      "Processing Record 357 of set 1 | bima\n",
      "Processing Record 358 of set 1 | karema\n",
      "Processing Record 359 of set 1 | barra do corda\n",
      "Missing field/result....skipping.\n",
      "Processing Record 361 of set 1 | aklavik\n",
      "Processing Record 362 of set 1 | mbumi\n",
      "Processing Record 363 of set 1 | la ronge\n",
      "Processing Record 364 of set 1 | labytnangi\n",
      "Missing field/result....skipping.\n",
      "Processing Record 366 of set 1 | faya\n",
      "Processing Record 367 of set 1 | anzio\n",
      "Processing Record 368 of set 1 | harer\n",
      "Missing field/result....skipping.\n",
      "Processing Record 370 of set 1 | gorom-gorom\n",
      "Processing Record 371 of set 1 | ningbo\n",
      "Processing Record 372 of set 1 | gondar\n",
      "Processing Record 373 of set 1 | awbari\n",
      "Processing Record 374 of set 1 | araouane\n",
      "Processing Record 375 of set 1 | knysna\n",
      "Processing Record 376 of set 1 | xinye\n",
      "Processing Record 377 of set 1 | almeirim\n",
      "Processing Record 378 of set 1 | tazovskiy\n",
      "Processing Record 379 of set 1 | mount gambier\n",
      "Processing Record 380 of set 1 | leningradskiy\n",
      "Processing Record 381 of set 1 | nantucket\n",
      "Processing Record 382 of set 1 | markapur\n",
      "Processing Record 383 of set 1 | khromtau\n",
      "Processing Record 384 of set 1 | sarab\n",
      "Processing Record 385 of set 1 | komsomolskiy\n",
      "Missing field/result....skipping.\n",
      "Processing Record 387 of set 1 | srikakulam\n",
      "Processing Record 388 of set 1 | sao joao da barra\n",
      "Processing Record 389 of set 1 | bardiyah\n",
      "Processing Record 390 of set 1 | havre-saint-pierre\n",
      "Processing Record 391 of set 1 | paita\n",
      "Processing Record 392 of set 1 | severo-kurilsk\n",
      "Processing Record 393 of set 1 | penticton\n",
      "Processing Record 394 of set 1 | pochutla\n"
     ]
    },
    {
     "name": "stdout",
     "output_type": "stream",
     "text": [
      "Processing Record 395 of set 1 | clyde river\n",
      "Processing Record 396 of set 1 | praia da vitoria\n",
      "Processing Record 397 of set 1 | carballo\n",
      "Processing Record 398 of set 1 | atar\n",
      "Missing field/result....skipping.\n",
      "Processing Record 400 of set 1 | severnoye\n",
      "Processing Record 401 of set 1 | parainen\n",
      "Processing Record 402 of set 1 | oksfjord\n",
      "Processing Record 403 of set 1 | pontianak\n",
      "Processing Record 404 of set 1 | roebourne\n",
      "Processing Record 405 of set 1 | krasnoselkup\n",
      "Processing Record 406 of set 1 | tura\n",
      "Processing Record 407 of set 1 | tekeli\n",
      "Processing Record 408 of set 1 | makakilo city\n",
      "Processing Record 409 of set 1 | harper\n",
      "Processing Record 410 of set 1 | gambela\n",
      "Processing Record 411 of set 1 | biltine\n",
      "Processing Record 412 of set 1 | mecca\n",
      "Missing field/result....skipping.\n",
      "Processing Record 414 of set 1 | karratha\n",
      "Processing Record 415 of set 1 | codrington\n",
      "Processing Record 416 of set 1 | westport\n",
      "Processing Record 417 of set 1 | sweetwater\n",
      "Missing field/result....skipping.\n",
      "Processing Record 419 of set 1 | riohacha\n",
      "Processing Record 420 of set 1 | port elizabeth\n",
      "Processing Record 421 of set 1 | mana\n",
      "Processing Record 422 of set 1 | maumere\n",
      "Processing Record 423 of set 1 | duldurga\n",
      "Processing Record 424 of set 1 | vinh\n",
      "Processing Record 425 of set 1 | antofagasta\n",
      "Processing Record 426 of set 1 | zhangye\n",
      "Processing Record 427 of set 1 | athabasca\n",
      "Processing Record 428 of set 1 | xingcheng\n",
      "Processing Record 429 of set 1 | poltavka\n",
      "Processing Record 430 of set 1 | auka\n",
      "Processing Record 431 of set 1 | surazh\n",
      "Processing Record 432 of set 1 | yokadouma\n",
      "Processing Record 433 of set 1 | maceio\n",
      "Processing Record 434 of set 1 | poum\n",
      "Processing Record 435 of set 1 | parana\n",
      "Processing Record 436 of set 1 | nipawin\n",
      "Processing Record 437 of set 1 | makinsk\n",
      "Processing Record 438 of set 1 | cayenne\n",
      "Processing Record 439 of set 1 | port hardy\n",
      "Processing Record 440 of set 1 | west monroe\n",
      "Processing Record 441 of set 1 | grand gaube\n",
      "Processing Record 442 of set 1 | moengo\n",
      "Processing Record 443 of set 1 | makungu\n",
      "Processing Record 444 of set 1 | carauari\n",
      "Processing Record 445 of set 1 | dobryanka\n",
      "Processing Record 446 of set 1 | iquira\n",
      "Processing Record 447 of set 1 | gouyave\n",
      "Processing Record 448 of set 1 | uchiza\n",
      "Processing Record 449 of set 1 | batagay\n",
      "Processing Record 450 of set 1 | shekhupura\n",
      "Processing Record 451 of set 1 | kongolo\n",
      "Processing Record 452 of set 1 | grindavik\n",
      "Processing Record 453 of set 1 | soldotna\n",
      "Processing Record 454 of set 1 | tabou\n",
      "Processing Record 455 of set 1 | madera\n",
      "Processing Record 456 of set 1 | berlevag\n",
      "Processing Record 457 of set 1 | east wemyss\n",
      "Processing Record 458 of set 1 | beringovskiy\n",
      "Missing field/result....skipping.\n",
      "Processing Record 460 of set 1 | zhanaozen\n",
      "Processing Record 461 of set 1 | waseca\n",
      "Processing Record 462 of set 1 | jalu\n",
      "Processing Record 463 of set 1 | vilyuysk\n",
      "Processing Record 464 of set 1 | raudeberg\n",
      "Processing Record 465 of set 1 | chechat\n",
      "Processing Record 466 of set 1 | baruun-urt\n",
      "Processing Record 467 of set 1 | muisne\n",
      "Processing Record 468 of set 1 | pringsewu\n",
      "Processing Record 469 of set 1 | salto\n",
      "Processing Record 470 of set 1 | hobyo\n",
      "Missing field/result....skipping.\n",
      "Processing Record 472 of set 1 | savannah bight\n",
      "Processing Record 473 of set 1 | sabancuy\n",
      "Processing Record 474 of set 1 | kastamonu\n",
      "Processing Record 475 of set 1 | cavalcante\n",
      "Processing Record 476 of set 1 | nhulunbuy\n",
      "Processing Record 477 of set 1 | langsa\n",
      "Processing Record 478 of set 1 | quatre cocos\n",
      "Processing Record 479 of set 1 | sangar\n",
      "Processing Record 480 of set 1 | marawi\n",
      "Processing Record 481 of set 1 | rio gallegos\n",
      "Processing Record 482 of set 1 | ayan\n",
      "Processing Record 483 of set 1 | mnogovershinnyy\n",
      "Processing Record 484 of set 1 | lata\n",
      "Processing Record 485 of set 1 | maarianhamina\n",
      "Processing Record 486 of set 1 | hamilton\n",
      "Processing Record 487 of set 1 | santa maria\n",
      "Processing Record 488 of set 1 | naryan-mar\n",
      "Processing Record 489 of set 1 | urusha\n",
      "Processing Record 490 of set 1 | puerto madryn\n",
      "Processing Record 491 of set 1 | richards bay\n",
      "Processing Record 492 of set 1 | buraydah\n",
      "Processing Record 493 of set 1 | nalut\n",
      "Processing Record 494 of set 1 | arco\n",
      "Processing Record 495 of set 1 | mogadishu\n",
      "Processing Record 496 of set 1 | nyagan\n",
      "Processing Record 497 of set 1 | el alto\n",
      "Processing Record 498 of set 1 | svetlyy\n",
      "Processing Record 499 of set 1 | wajima\n",
      "Processing Record 500 of set 1 | barinas\n",
      "Processing Record 501 of set 1 | lucapa\n",
      "Processing Record 502 of set 1 | morondava\n",
      "Processing Record 503 of set 1 | susanville\n",
      "Processing Record 504 of set 1 | talcahuano\n",
      "Processing Record 505 of set 1 | fort wellington\n",
      "Processing Record 506 of set 1 | varhaug\n",
      "Processing Record 507 of set 1 | campbellsville\n",
      "Processing Record 508 of set 1 | tubuala\n",
      "Processing Record 509 of set 1 | rehoboth\n",
      "Processing Record 510 of set 1 | sakata\n",
      "Processing Record 511 of set 1 | ordzhonikidze\n",
      "Processing Record 512 of set 1 | betioky\n",
      "Processing Record 513 of set 1 | kirillov\n",
      "Missing field/result....skipping.\n",
      "Processing Record 515 of set 1 | concordia\n",
      "Processing Record 516 of set 1 | abha\n",
      "Processing Record 517 of set 1 | kununurra\n",
      "Processing Record 518 of set 1 | katsuura\n",
      "Processing Record 519 of set 1 | cuenca\n",
      "Processing Record 520 of set 1 | tastur\n",
      "Missing field/result....skipping.\n",
      "Processing Record 522 of set 1 | ormara\n",
      "Processing Record 523 of set 1 | mont-de-marsan\n",
      "Processing Record 524 of set 1 | izberbash\n",
      "Processing Record 525 of set 1 | celarevo\n",
      "Processing Record 526 of set 1 | siparia\n",
      "Missing field/result....skipping.\n",
      "Processing Record 528 of set 1 | atyrau\n",
      "Processing Record 529 of set 1 | paamiut\n",
      "Missing field/result....skipping.\n",
      "Processing Record 531 of set 1 | zwedru\n",
      "Processing Record 532 of set 1 | macas\n",
      "Processing Record 533 of set 1 | san francisco\n",
      "Processing Record 534 of set 1 | natal\n",
      "Processing Record 535 of set 1 | ambilobe\n",
      "Processing Record 536 of set 1 | port shepstone\n",
      "Processing Record 537 of set 1 | dhidhdhoo\n",
      "Processing Record 538 of set 1 | gigmoto\n",
      "Processing Record 539 of set 1 | jacareacanga\n",
      "Processing Record 540 of set 1 | balakhta\n",
      "Processing Record 541 of set 1 | riberalta\n",
      "Processing Record 542 of set 1 | dapaong\n",
      "Processing Record 543 of set 1 | zharkent\n",
      "Processing Record 544 of set 1 | turukhansk\n",
      "Processing Record 545 of set 1 | matara\n",
      "Processing Record 546 of set 1 | cobija\n",
      "Processing Record 547 of set 1 | soyo\n",
      "Processing Record 548 of set 1 | sabang\n",
      "Processing Record 549 of set 1 | taitung\n",
      "Processing Record 550 of set 1 | cangas\n",
      "Missing field/result....skipping.\n",
      "Processing Record 552 of set 1 | whitecourt\n",
      "Processing Record 553 of set 1 | bayir\n",
      "Processing Record 554 of set 1 | warri\n",
      "Missing field/result....skipping.\n",
      "Processing Record 556 of set 1 | greifswald\n",
      "Processing Record 557 of set 1 | nizhniy kuranakh\n",
      "Processing Record 558 of set 1 | adrar\n",
      "Processing Record 559 of set 1 | kirkwall\n",
      "Processing Record 560 of set 1 | acapulco\n",
      "Processing Record 561 of set 1 | salinopolis\n",
      "Processing Record 562 of set 1 | maracaju\n",
      "Processing Record 563 of set 1 | lewistown\n",
      "Processing Record 564 of set 1 | badvel\n",
      "Processing Record 565 of set 1 | punta alta\n",
      "Processing Record 566 of set 1 | san policarpo\n",
      "Processing Record 567 of set 1 | mostovskoy\n",
      "Processing Record 568 of set 1 | alofi\n",
      "Processing Record 569 of set 1 | scottsboro\n",
      "Processing Record 570 of set 1 | el tocuyo\n",
      "Processing Record 571 of set 1 | goure\n",
      "Processing Record 572 of set 1 | burns lake\n",
      "Processing Record 573 of set 1 | uong bi\n",
      "Processing Record 574 of set 1 | sandwick\n",
      "Processing Record 575 of set 1 | upata\n",
      "Processing Record 576 of set 1 | axim\n",
      "Processing Record 577 of set 1 | troitskoye\n",
      "Processing Record 578 of set 1 | nenjiang\n",
      "Processing Record 579 of set 1 | egvekinot\n",
      "Processing Record 580 of set 1 | conway\n",
      "Processing Record 581 of set 1 | dalbandin\n",
      "Processing Record 582 of set 1 | maldonado\n",
      "Processing Record 583 of set 1 | sibolga\n",
      "Processing Record 584 of set 1 | neiafu\n",
      "Processing Record 585 of set 1 | abu samrah\n",
      "Processing Record 586 of set 1 | kutum\n",
      "Processing Record 587 of set 1 | vanavara\n",
      "Processing Record 588 of set 1 | bilma\n",
      "Processing Record 589 of set 1 | chik\n",
      "Processing Record 590 of set 1 | capaci\n",
      "Processing Record 591 of set 1 | saint-francois\n"
     ]
    },
    {
     "name": "stdout",
     "output_type": "stream",
     "text": [
      "Processing Record 592 of set 1 | otavi\n",
      "Processing Record 593 of set 1 | kirakira\n",
      "Processing Record 594 of set 1 | cayhagan\n",
      "Processing Record 595 of set 1 | totness\n",
      "Processing Record 596 of set 1 | bograd\n",
      "Processing Record 597 of set 1 | plettenberg bay\n",
      "Processing Record 598 of set 1 | virginia beach\n",
      "Processing Record 599 of set 1 | les cayes\n",
      "Processing Record 600 of set 1 | goreloye\n",
      "Processing Record 601 of set 1 | progreso\n",
      "Processing Record 602 of set 1 | jiuquan\n",
      "Processing Record 603 of set 1 | port augusta\n",
      "Processing Record 604 of set 1 | laramie\n",
      "Processing Record 605 of set 1 | berdigestyakh\n",
      "Processing Record 606 of set 1 | taksimo\n",
      "-----------------------------------\n",
      "Data Retrieval Complete\n",
      "------------------------\n"
     ]
    }
   ],
   "source": [
    "url = \"http://api.openweathermap.org/data/2.5/weather?\"\n",
    "units= \"imperial\"\n",
    "\n",
    "query_url = f\"{url}appid={weather_api_key}&units={units}&q=\"\n",
    "\n",
    "city_group=[]\n",
    "lat=[]\n",
    "lng=[]\n",
    "max_temp =[]\n",
    "cloud=[]\n",
    "hum=[]\n",
    "wind=[]\n",
    "country=[]\n",
    "date=[]\n",
    "\n",
    "\n",
    "#Loop through the list of cities \n",
    "\n",
    "print(\"Beginning Data Retrieval\\n-----------------------------------------\")\n",
    "\n",
    "for city in cities:\n",
    "    try:\n",
    "        response = requests.get(query_url + city).json()\n",
    "        lat.append(response['coord']['lat'])\n",
    "        lng.append(response['coord']['lon'])\n",
    "        hum.append(response['main']['humidity'])\n",
    "        cloud.append(response['clouds']['all'])\n",
    "        wind.append(response['wind']['speed'])\n",
    "        country.append(response['sys']['country'])\n",
    "        date.append(response['dt'])\n",
    "        max_temp.append(response['main']['temp_max'])\n",
    "        city_group.append(response['name'])\n",
    "        print(f\"Processing Record {cities.index(city)} of set 1 | {city}\")\n",
    "        \n",
    "    except(KeyError, IndexError):\n",
    "        print(\"Missing field/result....skipping.\")\n",
    "    \n",
    "print(\"-----------------------------------\\nData Retrieval Complete\\n------------------------\")\n",
    "        \n"
   ]
  },
  {
   "cell_type": "markdown",
   "metadata": {},
   "source": [
    "### Convert Raw Data to DataFrame\n",
    "* Export the city data into a .csv.\n",
    "* Display the DataFrame"
   ]
  },
  {
   "cell_type": "code",
   "execution_count": 33,
   "metadata": {},
   "outputs": [],
   "source": [
    "weather_dict = {\n",
    "    \"City\": city_group,\n",
    "    \"Lat\": lat,\n",
    "    \"Lng\":lng,\n",
    "    \"Max temp\":max_temp,\n",
    "    \"Humidity\":hum,\n",
    "    \"Cloudiness\":cloud,\n",
    "    \"Wind speed\": wind, \n",
    "    \"Country\":country,\n",
    "    \"Date\":date}\n"
   ]
  },
  {
   "cell_type": "code",
   "execution_count": 9,
   "metadata": {},
   "outputs": [
    {
     "data": {
      "text/html": [
       "<div>\n",
       "<style scoped>\n",
       "    .dataframe tbody tr th:only-of-type {\n",
       "        vertical-align: middle;\n",
       "    }\n",
       "\n",
       "    .dataframe tbody tr th {\n",
       "        vertical-align: top;\n",
       "    }\n",
       "\n",
       "    .dataframe thead th {\n",
       "        text-align: right;\n",
       "    }\n",
       "</style>\n",
       "<table border=\"1\" class=\"dataframe\">\n",
       "  <thead>\n",
       "    <tr style=\"text-align: right;\">\n",
       "      <th></th>\n",
       "      <th>City</th>\n",
       "      <th>Lat</th>\n",
       "      <th>Lng</th>\n",
       "      <th>Max temp</th>\n",
       "      <th>Humidity</th>\n",
       "      <th>Cloudiness</th>\n",
       "      <th>Wind speed</th>\n",
       "      <th>Country</th>\n",
       "      <th>Date</th>\n",
       "    </tr>\n",
       "  </thead>\n",
       "  <tbody>\n",
       "    <tr>\n",
       "      <th>0</th>\n",
       "      <td>Puerto Baquerizo Moreno</td>\n",
       "      <td>-0.90</td>\n",
       "      <td>-89.60</td>\n",
       "      <td>73.40</td>\n",
       "      <td>78</td>\n",
       "      <td>75</td>\n",
       "      <td>14.99</td>\n",
       "      <td>EC</td>\n",
       "      <td>1595453586</td>\n",
       "    </tr>\n",
       "    <tr>\n",
       "      <th>1</th>\n",
       "      <td>Hermanus</td>\n",
       "      <td>-34.42</td>\n",
       "      <td>19.23</td>\n",
       "      <td>54.00</td>\n",
       "      <td>92</td>\n",
       "      <td>0</td>\n",
       "      <td>3.85</td>\n",
       "      <td>ZA</td>\n",
       "      <td>1595453345</td>\n",
       "    </tr>\n",
       "    <tr>\n",
       "      <th>2</th>\n",
       "      <td>Tasiilaq</td>\n",
       "      <td>65.61</td>\n",
       "      <td>-37.64</td>\n",
       "      <td>42.80</td>\n",
       "      <td>87</td>\n",
       "      <td>35</td>\n",
       "      <td>5.82</td>\n",
       "      <td>GL</td>\n",
       "      <td>1595453586</td>\n",
       "    </tr>\n",
       "    <tr>\n",
       "      <th>3</th>\n",
       "      <td>Coahuayana Viejo</td>\n",
       "      <td>18.73</td>\n",
       "      <td>-103.68</td>\n",
       "      <td>88.54</td>\n",
       "      <td>60</td>\n",
       "      <td>98</td>\n",
       "      <td>6.98</td>\n",
       "      <td>MX</td>\n",
       "      <td>1595453586</td>\n",
       "    </tr>\n",
       "    <tr>\n",
       "      <th>4</th>\n",
       "      <td>Vostok</td>\n",
       "      <td>46.49</td>\n",
       "      <td>135.88</td>\n",
       "      <td>64.11</td>\n",
       "      <td>94</td>\n",
       "      <td>97</td>\n",
       "      <td>1.12</td>\n",
       "      <td>RU</td>\n",
       "      <td>1595453515</td>\n",
       "    </tr>\n",
       "  </tbody>\n",
       "</table>\n",
       "</div>"
      ],
      "text/plain": [
       "                      City    Lat     Lng  Max temp  Humidity  Cloudiness  \\\n",
       "0  Puerto Baquerizo Moreno  -0.90  -89.60     73.40        78          75   \n",
       "1                 Hermanus -34.42   19.23     54.00        92           0   \n",
       "2                 Tasiilaq  65.61  -37.64     42.80        87          35   \n",
       "3         Coahuayana Viejo  18.73 -103.68     88.54        60          98   \n",
       "4                   Vostok  46.49  135.88     64.11        94          97   \n",
       "\n",
       "   Wind speed Country        Date  \n",
       "0       14.99      EC  1595453586  \n",
       "1        3.85      ZA  1595453345  \n",
       "2        5.82      GL  1595453586  \n",
       "3        6.98      MX  1595453586  \n",
       "4        1.12      RU  1595453515  "
      ]
     },
     "execution_count": 9,
     "metadata": {},
     "output_type": "execute_result"
    }
   ],
   "source": [
    "weather_data = pd.DataFrame(weather_dict)\n",
    "weather_data.head()"
   ]
  },
  {
   "cell_type": "markdown",
   "metadata": {},
   "source": [
    "## Inspect the data and remove the cities where the humidity > 100%.\n",
    "----\n",
    "Skip this step if there are no cities that have humidity > 100%. "
   ]
  },
  {
   "cell_type": "code",
   "execution_count": 10,
   "metadata": {},
   "outputs": [
    {
     "data": {
      "text/html": [
       "<div>\n",
       "<style scoped>\n",
       "    .dataframe tbody tr th:only-of-type {\n",
       "        vertical-align: middle;\n",
       "    }\n",
       "\n",
       "    .dataframe tbody tr th {\n",
       "        vertical-align: top;\n",
       "    }\n",
       "\n",
       "    .dataframe thead th {\n",
       "        text-align: right;\n",
       "    }\n",
       "</style>\n",
       "<table border=\"1\" class=\"dataframe\">\n",
       "  <thead>\n",
       "    <tr style=\"text-align: right;\">\n",
       "      <th></th>\n",
       "      <th>City</th>\n",
       "      <th>Lat</th>\n",
       "      <th>Lng</th>\n",
       "      <th>Max temp</th>\n",
       "      <th>Humidity</th>\n",
       "      <th>Cloudiness</th>\n",
       "      <th>Wind speed</th>\n",
       "      <th>Country</th>\n",
       "      <th>Date</th>\n",
       "    </tr>\n",
       "  </thead>\n",
       "  <tbody>\n",
       "  </tbody>\n",
       "</table>\n",
       "</div>"
      ],
      "text/plain": [
       "Empty DataFrame\n",
       "Columns: [City, Lat, Lng, Max temp, Humidity, Cloudiness, Wind speed, Country, Date]\n",
       "Index: []"
      ]
     },
     "execution_count": 10,
     "metadata": {},
     "output_type": "execute_result"
    }
   ],
   "source": [
    "clean_data = weather_data[weather_data[\"Humidity\"] > 100]\n",
    "clean_data "
   ]
  },
  {
   "cell_type": "code",
   "execution_count": 11,
   "metadata": {},
   "outputs": [
    {
     "data": {
      "text/plain": [
       "[]"
      ]
     },
     "execution_count": 11,
     "metadata": {},
     "output_type": "execute_result"
    }
   ],
   "source": [
    "#  Get the indices of cities that have humidity over 100%.\n",
    "indices = weather_data.index[weather_data['Humidity'] > 100].tolist() to list\n",
    "indices\n"
   ]
  },
  {
   "cell_type": "code",
   "execution_count": 12,
   "metadata": {},
   "outputs": [],
   "source": [
    "# Make a new DataFrame equal to the city data to drop all humidity outliers by index.\n",
    "# Passing \"inplace=False\" will make a copy of the city_data DataFrame, which we call \"clean_city_data\".\n"
   ]
  },
  {
   "cell_type": "code",
   "execution_count": 13,
   "metadata": {},
   "outputs": [],
   "source": [
    "# Extract relevant fields from the data frame\n",
    "\n",
    "\n",
    "# Export the City_Data into a csv\n",
    "weather_data.to_csv(r'out.csv', index=False)\n"
   ]
  },
  {
   "cell_type": "markdown",
   "metadata": {},
   "source": [
    "## Plotting the Data\n",
    "* Use proper labeling of the plots using plot titles (including date of analysis) and axes labels.\n",
    "* Save the plotted figures as .pngs."
   ]
  },
  {
   "cell_type": "markdown",
   "metadata": {},
   "source": [
    "## Latitude vs. Temperature Plot"
   ]
  },
  {
   "cell_type": "code",
   "execution_count": 41,
   "metadata": {
    "scrolled": true
   },
   "outputs": [
    {
     "data": {
      "image/png": "[encoded data removed]",
      "text/plain": [
       "<Figure size 432x288 with 1 Axes>"
      ]
     },
     "metadata": {
      "needs_background": "light"
     },
     "output_type": "display_data"
    },
    {
     "data": {
      "text/plain": [
       "<Figure size 432x288 with 0 Axes>"
      ]
     },
     "metadata": {},
     "output_type": "display_data"
    }
   ],
   "source": [
    "x_values = weather_data['Lat']\n",
    "y_values = weather_data['Max temp']\n",
    "plt.scatter(x_values,y_values)\n",
    "plt.title('City Latitude vs. Max Temperature (04/01/20)')\n",
    "plt.xlabel('Latitude')\n",
    "plt.ylabel('Max Temperature (F)')\n",
    "plt.grid()\n",
    "plt.show()\n",
    "plt.tight_layout()\n",
    "plt.savefig(\"City Lat vs Max temp.png\")"
   ]
  },
  {
   "cell_type": "markdown",
   "metadata": {},
   "source": [
    "## Latitude vs. Humidity Plot"
   ]
  },
  {
   "cell_type": "code",
   "execution_count": 42,
   "metadata": {},
   "outputs": [
    {
     "data": {
      "image/png": "[encoded data removed]",
      "text/plain": [
       "<Figure size 432x288 with 1 Axes>"
      ]
     },
     "metadata": {
      "needs_background": "light"
     },
     "output_type": "display_data"
    },
    {
     "data": {
      "text/plain": [
       "<Figure size 432x288 with 0 Axes>"
      ]
     },
     "metadata": {},
     "output_type": "display_data"
    }
   ],
   "source": [
    "x_values = weather_data['Lat']\n",
    "y_values = weather_data['Humidity']\n",
    "plt.scatter(x_values,y_values)\n",
    "plt.title('City Latitude vs. Humidity (04/01/20)')\n",
    "plt.xlabel('Latitude')\n",
    "plt.ylabel('Humidity (%)')\n",
    "plt.grid()\n",
    "plt.show()\n",
    "plt.tight_layout()\n",
    "plt.savefig(\"Lat vs Hum.png\")"
   ]
  },
  {
   "cell_type": "markdown",
   "metadata": {},
   "source": [
    "## Latitude vs. Cloudiness Plot"
   ]
  },
  {
   "cell_type": "code",
   "execution_count": 43,
   "metadata": {},
   "outputs": [
    {
     "data": {
      "image/png": "[encoded data removed]",
      "text/plain": [
       "<Figure size 432x288 with 1 Axes>"
      ]
     },
     "metadata": {
      "needs_background": "light"
     },
     "output_type": "display_data"
    },
    {
     "data": {
      "text/plain": [
       "<Figure size 432x288 with 0 Axes>"
      ]
     },
     "metadata": {},
     "output_type": "display_data"
    }
   ],
   "source": [
    "x_values = weather_data['Lat']\n",
    "y_values = weather_data['Cloudiness']\n",
    "plt.scatter(x_values,y_values)\n",
    "plt.title('City Latitude vs. Cloudiness (04/01/20)')\n",
    "plt.xlabel('Latitude')\n",
    "plt.ylabel('Cloudiness (%)')\n",
    "plt.grid()\n",
    "plt.show()\n",
    "plt.tight_layout()\n",
    "plt.savefig(\"Lat vs Cloudiness.png\")"
   ]
  },
  {
   "cell_type": "markdown",
   "metadata": {},
   "source": [
    "## Latitude vs. Wind Speed Plot"
   ]
  },
  {
   "cell_type": "code",
   "execution_count": 44,
   "metadata": {},
   "outputs": [
    {
     "data": {
      "image/png": "[encoded data removed]",
      "text/plain": [
       "<Figure size 432x288 with 1 Axes>"
      ]
     },
     "metadata": {
      "needs_background": "light"
     },
     "output_type": "display_data"
    },
    {
     "data": {
      "text/plain": [
       "<Figure size 432x288 with 0 Axes>"
      ]
     },
     "metadata": {},
     "output_type": "display_data"
    }
   ],
   "source": [
    "x_values = weather_data['Lat']\n",
    "y_values = weather_data['Wind speed']\n",
    "plt.scatter(x_values,y_values)\n",
    "plt.title('City Latitude vs. Wind Speed (04/01/20)')\n",
    "plt.xlabel('Latitude')\n",
    "plt.ylabel('Wind Speed (mph)')\n",
    "plt.grid()\n",
    "plt.show()\n",
    "plt.tight_layout()\n",
    "plt.savefig(\"Lat vs Wind Speed.png\")"
   ]
  },
  {
   "cell_type": "markdown",
   "metadata": {},
   "source": [
    "## Linear Regression"
   ]
  },
  {
   "cell_type": "code",
   "execution_count": 18,
   "metadata": {},
   "outputs": [],
   "source": [
    "# OPTIONAL: Create a function to create Linear Regression plots\n"
   ]
  },
  {
   "cell_type": "code",
   "execution_count": 19,
   "metadata": {},
   "outputs": [],
   "source": [
    "# Create Northern and Southern Hemisphere DataFrames\n",
    "southern_hemisphere = weather_data[weather_data[\"Lat\"] < 0]\n",
    "northern_hemisphere = weather_data[weather_data[\"Lat\"] > 0]"
   ]
  },
  {
   "cell_type": "code",
   "execution_count": null,
   "metadata": {},
   "outputs": [],
   "source": []
  },
  {
   "cell_type": "markdown",
   "metadata": {},
   "source": [
    "####  Northern Hemisphere - Max Temp vs. Latitude Linear Regression"
   ]
  },
  {
   "cell_type": "code",
   "execution_count": 45,
   "metadata": {},
   "outputs": [
    {
     "name": "stdout",
     "output_type": "stream",
     "text": [
      "The r-squared is: 0.46173073771370277\n"
     ]
    },
    {
     "data": {
      "image/png": "[encoded data removed]",
      "text/plain": [
       "<Figure size 432x288 with 1 Axes>"
      ]
     },
     "metadata": {
      "needs_background": "light"
     },
     "output_type": "display_data"
    },
    {
     "data": {
      "text/plain": [
       "<Figure size 432x288 with 0 Axes>"
      ]
     },
     "metadata": {},
     "output_type": "display_data"
    }
   ],
   "source": [
    "# Create Plot\n",
    "x_values_1 = northern_hemisphere[\"Lat\"]\n",
    "y_values_1 = northern_hemisphere[\"Max temp\"]\n",
    "(slope, intercept, rvalue, pvalue, stderr) = stats.linregress(x_values_1, y_values_1)\n",
    "regress_values = x_values_1 * slope +intercept\n",
    "line_equation = \"y=\" + str(round(slope,2)) + \"x + \" + str(round(intercept,2))\n",
    " \n",
    "plt.scatter(x_values_1, y_values_1)\n",
    "plt.plot(x_values_1, regress_values, \"r-\")\n",
    "plt.annotate(line_equation, (20,50), fontsize=12,color=\"red\")\n",
    "print(f\"The r-squared is: {rvalue**2}\")\n",
    "      \n",
    "plt.title(\"Northern Hemisphere Max Temp Vs Latitude Linear Regression\")\n",
    "plt.xlabel(\"Latitude\")\n",
    "plt.ylabel(\"Max Temp\")\n",
    "plt.show()\n",
    "plt.savefig(\"Northern Max temp vs lat linear reg.png\")"
   ]
  },
  {
   "cell_type": "markdown",
   "metadata": {},
   "source": [
    "####  Southern Hemisphere - Max Temp vs. Latitude Linear Regression"
   ]
  },
  {
   "cell_type": "code",
   "execution_count": 46,
   "metadata": {},
   "outputs": [
    {
     "name": "stdout",
     "output_type": "stream",
     "text": [
      "The r-squared is: 0.6096106565942393\n"
     ]
    },
    {
     "data": {
      "image/png": "[encoded data removed]",
      "text/plain": [
       "<Figure size 432x288 with 1 Axes>"
      ]
     },
     "metadata": {
      "needs_background": "light"
     },
     "output_type": "display_data"
    },
    {
     "data": {
      "text/plain": [
       "<Figure size 432x288 with 0 Axes>"
      ]
     },
     "metadata": {},
     "output_type": "display_data"
    }
   ],
   "source": [
    "# Create Plot\n",
    "x_values_1 = southern_hemisphere[\"Lat\"]\n",
    "y_values_1 = southern_hemisphere[\"Max temp\"]\n",
    "(slope, intercept, rvalue, pvalue, stderr) = stats.linregress(x_values_1, y_values_1)\n",
    "regress_values = x_values_1 * slope +intercept\n",
    "line_equation = \"y=\" + str(round(slope,2)) + \"x + \" + str(round(intercept,2))\n",
    " \n",
    "plt.scatter(x_values_1, y_values_1)\n",
    "plt.plot(x_values_1, regress_values, \"r-\")\n",
    "plt.annotate(line_equation, (20,50), fontsize=12,color=\"red\")\n",
    "print(f\"The r-squared is: {rvalue**2}\")\n",
    "      \n",
    "plt.title(\"Southern Hemisphere Max Temp Vs Latitude Linear Regression\")\n",
    "plt.xlabel(\"Latitude\")\n",
    "plt.ylabel(\"Max Temp\")\n",
    "plt.show()\n",
    "plt.savefig(\"Southern Max temp vs lat linear reg.png\")"
   ]
  },
  {
   "cell_type": "markdown",
   "metadata": {},
   "source": [
    "####  Northern Hemisphere - Humidity (%) vs. Latitude Linear Regression"
   ]
  },
  {
   "cell_type": "code",
   "execution_count": 47,
   "metadata": {},
   "outputs": [
    {
     "name": "stdout",
     "output_type": "stream",
     "text": [
      "The r-squared is: 0.00032521008587004066\n"
     ]
    },
    {
     "data": {
      "image/png": "[encoded data removed]",
      "text/plain": [
       "<Figure size 432x288 with 1 Axes>"
      ]
     },
     "metadata": {
      "needs_background": "light"
     },
     "output_type": "display_data"
    },
    {
     "data": {
      "text/plain": [
       "<Figure size 432x288 with 0 Axes>"
      ]
     },
     "metadata": {},
     "output_type": "display_data"
    }
   ],
   "source": [
    "# Create Plot\n",
    "x_values_1 = northern_hemisphere[\"Lat\"]\n",
    "y_values_1 = northern_hemisphere[\"Humidity\"]\n",
    "(slope, intercept, rvalue, pvalue, stderr) = stats.linregress(x_values_1, y_values_1)\n",
    "regress_values = x_values_1 * slope +intercept\n",
    "line_equation = \"y=\" + str(round(slope,2)) + \"x + \" + str(round(intercept,2))\n",
    " \n",
    "plt.scatter(x_values_1, y_values_1)\n",
    "plt.plot(x_values_1, regress_values, \"r-\")\n",
    "plt.annotate(line_equation, (20,50), fontsize=12,color=\"red\")\n",
    "print(f\"The r-squared is: {rvalue**2}\")\n",
    "      \n",
    "plt.title(\"Northern Hemisphere Humidity (%) Vs Latitude Linear Regression\")\n",
    "plt.xlabel(\"Latitude\")\n",
    "plt.ylabel(\"Humidity\")\n",
    "plt.show()\n",
    "plt.savefig(\"Northern Humidity vs lat linear reg.png\")"
   ]
  },
  {
   "cell_type": "markdown",
   "metadata": {},
   "source": [
    "####  Southern Hemisphere - Humidity (%) vs. Latitude Linear Regression"
   ]
  },
  {
   "cell_type": "code",
   "execution_count": 48,
   "metadata": {},
   "outputs": [
    {
     "name": "stdout",
     "output_type": "stream",
     "text": [
      "The r-squared is: 0.020784054497119023\n"
     ]
    },
    {
     "data": {
      "image/png": "[encoded data removed]",
      "text/plain": [
       "<Figure size 432x288 with 1 Axes>"
      ]
     },
     "metadata": {
      "needs_background": "light"
     },
     "output_type": "display_data"
    },
    {
     "data": {
      "text/plain": [
       "<Figure size 432x288 with 0 Axes>"
      ]
     },
     "metadata": {},
     "output_type": "display_data"
    }
   ],
   "source": [
    "# Create Plot\n",
    "x_values_1 = southern_hemisphere[\"Lat\"]\n",
    "y_values_1 = southern_hemisphere[\"Humidity\"]\n",
    "(slope, intercept, rvalue, pvalue, stderr) = stats.linregress(x_values_1, y_values_1)\n",
    "regress_values = x_values_1 * slope +intercept\n",
    "line_equation = \"y=\" + str(round(slope,2)) + \"x + \" + str(round(intercept,2))\n",
    " \n",
    "plt.scatter(x_values_1, y_values_1)\n",
    "plt.plot(x_values_1, regress_values, \"r-\")\n",
    "plt.annotate(line_equation, (20,50), fontsize=12,color=\"red\")\n",
    "print(f\"The r-squared is: {rvalue**2}\")\n",
    "      \n",
    "plt.title(\"Southern Hemisphere Humidity (%) Vs Latitude Linear Regression\")\n",
    "plt.xlabel(\"Latitude\")\n",
    "plt.ylabel(\"Humidity\")\n",
    "plt.show()\n",
    "plt.savefig(\"Southern Humidity vs lat linear reg.png\")"
   ]
  },
  {
   "cell_type": "markdown",
   "metadata": {},
   "source": [
    "####  Northern Hemisphere - Cloudiness (%) vs. Latitude Linear Regression"
   ]
  },
  {
   "cell_type": "code",
   "execution_count": 49,
   "metadata": {},
   "outputs": [
    {
     "name": "stdout",
     "output_type": "stream",
     "text": [
      "The r-squared is: 0.006775376235097079\n"
     ]
    },
    {
     "data": {
      "image/png": "[encoded data removed]",
      "text/plain": [
       "<Figure size 432x288 with 1 Axes>"
      ]
     },
     "metadata": {
      "needs_background": "light"
     },
     "output_type": "display_data"
    },
    {
     "data": {
      "text/plain": [
       "<Figure size 432x288 with 0 Axes>"
      ]
     },
     "metadata": {},
     "output_type": "display_data"
    }
   ],
   "source": [
    "# Create Plot\n",
    "x_values_1 = northern_hemisphere[\"Lat\"]\n",
    "y_values_1 = northern_hemisphere[\"Cloudiness\"]\n",
    "(slope, intercept, rvalue, pvalue, stderr) = stats.linregress(x_values_1, y_values_1)\n",
    "regress_values = x_values_1 * slope +intercept\n",
    "line_equation = \"y=\" + str(round(slope,2)) + \"x + \" + str(round(intercept,2))\n",
    " \n",
    "plt.scatter(x_values_1, y_values_1)\n",
    "plt.plot(x_values_1, regress_values, \"r-\")\n",
    "plt.annotate(line_equation, (20,50), fontsize=12,color=\"red\")\n",
    "print(f\"The r-squared is: {rvalue**2}\")\n",
    "      \n",
    "plt.title(\"Northern Hemisphere Cloudiness (%) Vs Latitude Linear Regression\")\n",
    "plt.xlabel(\"Latitude\")\n",
    "plt.ylabel(\"Cloudiness\")\n",
    "plt.show()\n",
    "plt.savefig(\"Northern Cloudiness vs lat linear reg.png\")"
   ]
  },
  {
   "cell_type": "markdown",
   "metadata": {},
   "source": [
    "####  Southern Hemisphere - Cloudiness (%) vs. Latitude Linear Regression"
   ]
  },
  {
   "cell_type": "code",
   "execution_count": 50,
   "metadata": {},
   "outputs": [
    {
     "name": "stdout",
     "output_type": "stream",
     "text": [
      "The r-squared is: 0.00016750531601208762\n"
     ]
    },
    {
     "data": {
      "image/png": "[encoded data removed]",
      "text/plain": [
       "<Figure size 432x288 with 1 Axes>"
      ]
     },
     "metadata": {
      "needs_background": "light"
     },
     "output_type": "display_data"
    },
    {
     "data": {
      "text/plain": [
       "<Figure size 432x288 with 0 Axes>"
      ]
     },
     "metadata": {},
     "output_type": "display_data"
    }
   ],
   "source": [
    "# Create Plot\n",
    "x_values_1 = southern_hemisphere[\"Lat\"]\n",
    "y_values_1 = southern_hemisphere[\"Cloudiness\"]\n",
    "(slope, intercept, rvalue, pvalue, stderr) = stats.linregress(x_values_1, y_values_1)\n",
    "regress_values = x_values_1 * slope +intercept\n",
    "line_equation = \"y=\" + str(round(slope,2)) + \"x + \" + str(round(intercept,2))\n",
    " \n",
    "plt.scatter(x_values_1, y_values_1)\n",
    "plt.plot(x_values_1, regress_values, \"r-\")\n",
    "plt.annotate(line_equation, (20,50), fontsize=12,color=\"red\")\n",
    "print(f\"The r-squared is: {rvalue**2}\")\n",
    "      \n",
    "plt.title(\"Southern Hemisphere Cloudiness (%) Vs Latitude Linear Regression\")\n",
    "plt.xlabel(\"Latitude\")\n",
    "plt.ylabel(\"Cloudiness\")\n",
    "plt.show()\n",
    "plt.savefig(\"Southern Cloudiness vs lat linear reg.png\")"
   ]
  },
  {
   "cell_type": "markdown",
   "metadata": {},
   "source": [
    "####  Northern Hemisphere - Wind Speed (mph) vs. Latitude Linear Regression"
   ]
  },
  {
   "cell_type": "code",
   "execution_count": 51,
   "metadata": {
    "scrolled": true
   },
   "outputs": [
    {
     "name": "stdout",
     "output_type": "stream",
     "text": [
      "The r-squared is: 0.00012413038514107595\n"
     ]
    },
    {
     "data": {
      "image/png": "[encoded data removed]",
      "text/plain": [
       "<Figure size 432x288 with 1 Axes>"
      ]
     },
     "metadata": {
      "needs_background": "light"
     },
     "output_type": "display_data"
    },
    {
     "data": {
      "text/plain": [
       "<Figure size 432x288 with 0 Axes>"
      ]
     },
     "metadata": {},
     "output_type": "display_data"
    }
   ],
   "source": [
    "# Create Plot\n",
    "x_values_1 = northern_hemisphere[\"Lat\"]\n",
    "y_values_1 = northern_hemisphere[\"Wind speed\"]\n",
    "(slope, intercept, rvalue, pvalue, stderr) = stats.linregress(x_values_1, y_values_1)\n",
    "regress_values = x_values_1 * slope +intercept\n",
    "line_equation = \"y=\" + str(round(slope,2)) + \"x + \" + str(round(intercept,2))\n",
    " \n",
    "plt.scatter(x_values_1, y_values_1)\n",
    "plt.plot(x_values_1, regress_values, \"r-\")\n",
    "plt.annotate(line_equation, (20,50), fontsize=12,color=\"red\")\n",
    "print(f\"The r-squared is: {rvalue**2}\")\n",
    "      \n",
    "plt.title(\"Northern Hemisphere Wind Speed (mph) Vs Latitude Linear Regression\")\n",
    "plt.xlabel(\"Latitude\")\n",
    "plt.ylabel(\"Wind Speed\")\n",
    "plt.show()\n",
    "plt.savefig(\"Northern Wind speed vs lat linear reg.png\")"
   ]
  },
  {
   "cell_type": "markdown",
   "metadata": {},
   "source": [
    "####  Southern Hemisphere - Wind Speed (mph) vs. Latitude Linear Regression"
   ]
  },
  {
   "cell_type": "code",
   "execution_count": 52,
   "metadata": {},
   "outputs": [
    {
     "name": "stdout",
     "output_type": "stream",
     "text": [
      "The r-squared is: 0.004332999927243675\n"
     ]
    },
    {
     "data": {
      "image/png": "[encoded data removed]",
      "text/plain": [
       "<Figure size 432x288 with 1 Axes>"
      ]
     },
     "metadata": {
      "needs_background": "light"
     },
     "output_type": "display_data"
    },
    {
     "data": {
      "text/plain": [
       "<Figure size 432x288 with 0 Axes>"
      ]
     },
     "metadata": {},
     "output_type": "display_data"
    }
   ],
   "source": [
    "# Create Plot\n",
    "x_values_1 = southern_hemisphere[\"Lat\"]\n",
    "y_values_1 = southern_hemisphere[\"Wind speed\"]\n",
    "(slope, intercept, rvalue, pvalue, stderr) = stats.linregress(x_values_1, y_values_1)\n",
    "regress_values = x_values_1 * slope +intercept\n",
    "line_equation = \"y=\" + str(round(slope,2)) + \"x + \" + str(round(intercept,2))\n",
    "\n",
    "plt.scatter(x_values_1, y_values_1)\n",
    "plt.plot(x_values_1, regress_values, \"r-\")\n",
    "plt.annotate(line_equation, (20,50), fontsize=12,color=\"red\")\n",
    "print(f\"The r-squared is: {rvalue**2}\")\n",
    "      \n",
    "plt.title(\"Southern Hemisphere Wind Speed (mph) Vs Latitude Linear Regression\")\n",
    "plt.xlabel(\"Latitude\")\n",
    "plt.ylabel(\"Wind Speed\")\n",
    "plt.show()\n",
    "plt.savefig(\"Southern Wind speed vs lat linear reg.png\")"
   ]
  },
  {
   "cell_type": "code",
   "execution_count": null,
   "metadata": {},
   "outputs": [],
   "source": []
  },
  {
   "cell_type": "code",
   "execution_count": null,
   "metadata": {},
   "outputs": [],
   "source": []
  }
 ],
 "metadata": {
  "anaconda-cloud": {},
  "kernel_info": {
   "name": "python3"
  },
  "kernelspec": {
   "display_name": "Python 3",
   "language": "python",
   "name": "python3"
  },
  "language_info": {
   "codemirror_mode": {
    "name": "ipython",
    "version": 3
   },
   "file_extension": ".py",
   "mimetype": "text/x-python",
   "name": "python",
   "nbconvert_exporter": "python",
   "pygments_lexer": "ipython3",
   "version": "3.7.6"
  },
  "latex_envs": {
   "LaTeX_envs_menu_present": true,
   "autoclose": false,
   "autocomplete": true,
   "bibliofile": "biblio.bib",
   "cite_by": "apalike",
   "current_citInitial": 1,
   "eqLabelWithNumbers": true,
   "eqNumInitial": 1,
   "hotkeys": {
    "equation": "Ctrl-E",
    "itemize": "Ctrl-I"
   },
   "labels_anchors": false,
   "latex_user_defs": false,
   "report_style_numbering": false,
   "user_envs_cfg": false
  },
  "nteract": {
   "version": "0.12.3"
  }
 },
 "nbformat": 4,
 "nbformat_minor": 2
}
